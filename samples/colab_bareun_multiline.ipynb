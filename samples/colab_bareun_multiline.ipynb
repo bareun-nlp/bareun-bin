{
  "nbformat": 4,
  "nbformat_minor": 0,
  "metadata": {
    "colab": {
      "provenance": []
    },
    "kernelspec": {
      "name": "python3",
      "display_name": "Python 3"
    },
    "language_info": {
      "name": "python"
    },
    "accelerator": "GPU",
    "gpuClass": "standard"
  },
  "cells": [
    {
      "cell_type": "markdown",
      "source": [
        "## 바른 형태소 분석기 활용 2(멀티라인 요청)\n",
        "(이미 설치를 완료하신 분들은 아래 '샘플 텍스트 파일 다운로드' 부분부터 실행하면 됩니다.)\n",
        "\n",
        "바른 설치\n",
        "바른을 설치합니다.\n",
        "\n",
        "바른의 리눅스 설치본을 다운로드 받습니다."
      ],
      "metadata": {
        "id": "U4TgCGKCasSO"
      }
    },
    {
      "cell_type": "code",
      "source": [
        "!curl -LJks -H \"uname:$(uname -a)\" https://bareun.ai/api/get -o bareun-linux.deb\n",
        "!ls"
      ],
      "metadata": {
        "colab": {
          "base_uri": "https://localhost:8080/"
        },
        "id": "V7_Nz13GZ44q",
        "outputId": "a71423c0-6b7e-4a3e-bc20-3379615fa138"
      },
      "execution_count": 7,
      "outputs": [
        {
          "output_type": "stream",
          "name": "stdout",
          "text": [
            "bareun-linux.deb  sample_data\n"
          ]
        }
      ]
    },
    {
      "cell_type": "code",
      "source": [
        "!uname -a"
      ],
      "metadata": {
        "colab": {
          "base_uri": "https://localhost:8080/"
        },
        "id": "xFhStLRBZ8GT",
        "outputId": "c54a83f9-3911-4480-8fc4-88705d1fe1e3"
      },
      "execution_count": 8,
      "outputs": [
        {
          "output_type": "stream",
          "name": "stdout",
          "text": [
            "Linux e1408de574a0 5.10.147+ #1 SMP Sat Dec 10 16:00:40 UTC 2022 x86_64 x86_64 x86_64 GNU/Linux\n"
          ]
        }
      ]
    },
    {
      "cell_type": "markdown",
      "source": [
        "**바른**을 설치합니다."
      ],
      "metadata": {
        "id": "eMy_0XNla6Q8"
      }
    },
    {
      "cell_type": "code",
      "source": [
        "!dpkg -i bareun-linux.deb"
      ],
      "metadata": {
        "colab": {
          "base_uri": "https://localhost:8080/"
        },
        "id": "l0Zo4lyqZ9Wc",
        "outputId": "6e6ef070-e0cf-47d0-fd70-420506a5e0e2"
      },
      "execution_count": 9,
      "outputs": [
        {
          "output_type": "stream",
          "name": "stdout",
          "text": [
            "Selecting previously unselected package bareun.\n",
            "(Reading database ... 122349 files and directories currently installed.)\n",
            "Preparing to unpack bareun-linux.deb ...\n",
            "Unpacking bareun (2.0.1) ...\n",
            "Setting up bareun (2.0.1) ...\n",
            "System has not been booted with systemd as init system (PID 1). Can't operate.\n",
            "Failed to connect to bus: Host is down\n",
            "System has not been booted with systemd as init system (PID 1). Can't operate.\n",
            "Failed to connect to bus: Host is down\n",
            "Created symlink /etc/systemd/system/multi-user.target.wants/bareun.service → /etc/systemd/system/bareun.service.\n"
          ]
        }
      ]
    },
    {
      "cell_type": "markdown",
      "source": [
        "아래는 바른 모델이 GPU를 사용하기 위해서 다운받는 tensorflow 라이브러리입니다.\n",
        "\n",
        "상단의 메뉴탭의 \"런타임 > 런타임 유형 변경 > 하드웨어 가속기 > GPU 선택 > 저장\"을 설정하시면 모델의 추론 속도가 더 빨라집니다. 단, 무료버전의 경우 coloab의 일일 사용 제한을 초과하지 않아야 합니다.\n",
        "\n",
        "기본적으로 CPU를 사용해도 작동합니다."
      ],
      "metadata": {
        "id": "oOejuNAuaPSu"
      }
    },
    {
      "cell_type": "code",
      "source": [
        "!curl -O https://storage.googleapis.com/tensorflow/libtensorflow/libtensorflow-gpu-linux-x86_64-2.9.1.tar.gz"
      ],
      "metadata": {
        "colab": {
          "base_uri": "https://localhost:8080/"
        },
        "id": "AA_GGogIaH7M",
        "outputId": "e3ff608e-02d3-47ca-ed62-5d5fa5cced98"
      },
      "execution_count": 10,
      "outputs": [
        {
          "output_type": "stream",
          "name": "stdout",
          "text": [
            "  % Total    % Received % Xferd  Average Speed   Time    Time     Time  Current\n",
            "                                 Dload  Upload   Total   Spent    Left  Speed\n",
            "100  392M  100  392M    0     0  17.9M      0  0:00:21  0:00:21 --:--:-- 19.2M\n"
          ]
        }
      ]
    },
    {
      "cell_type": "code",
      "source": [
        "!tar -C /opt/bareun -xzf libtensorflow-gpu-linux-x86_64-2.9.1.tar.gz"
      ],
      "metadata": {
        "id": "kMWeiR6VbD71"
      },
      "execution_count": 11,
      "outputs": []
    },
    {
      "cell_type": "markdown",
      "source": [
        "## 환경 설정하기\n",
        "아래 코드는 BAREUN_ROOT와 LD_LIBRARY_PATH를 설정하고, /opt/bareun/bin/bareun을 백그라운드로 실행하는 코드입니다."
      ],
      "metadata": {
        "id": "rIr3OdJseIf9"
      }
    },
    {
      "cell_type": "code",
      "source": [
        "%env BAREUN_ROOT=\"/opt/bareun\"\n",
        "%env LD_LIBRARY_PATH=\"/opt/bareun/lib\"\n",
        "!BAREUN_ROOT=\"/opt/bareun\" LD_LIBRARY_PATH=\"/opt/bareun/lib\" nohup /opt/bareun/bin/bareun&\n"
      ],
      "metadata": {
        "colab": {
          "base_uri": "https://localhost:8080/"
        },
        "id": "NWKd0c96eN7q",
        "outputId": "8afba197-22a3-4f1c-9de8-75dedc46e5ed"
      },
      "execution_count": 12,
      "outputs": [
        {
          "output_type": "stream",
          "name": "stdout",
          "text": [
            "env: BAREUN_ROOT=\"/opt/bareun\"\n",
            "env: LD_LIBRARY_PATH=\"/opt/bareun/lib\"\n",
            "nohup: appending output to 'nohup.out'\n"
          ]
        }
      ]
    },
    {
      "cell_type": "code",
      "source": [
        "!ps -ef | grep bareun"
      ],
      "metadata": {
        "colab": {
          "base_uri": "https://localhost:8080/"
        },
        "id": "qToA97ZneUvm",
        "outputId": "d9a1e640-9c26-41a7-ba9f-b06b573546eb"
      },
      "execution_count": 13,
      "outputs": [
        {
          "output_type": "stream",
          "name": "stdout",
          "text": [
            "root        5482       1 99 04:08 ?        00:00:05 /opt/bareun/bin/bareun\n",
            "root        5519     358  0 04:08 ?        00:00:00 /bin/bash -c ps -ef | grep bareun\n",
            "root        5521    5519  0 04:08 ?        00:00:00 grep bareun\n"
          ]
        }
      ]
    },
    {
      "cell_type": "markdown",
      "source": [
        "API키 발급 바른 홈페이지(https://bareun.ai/) 에 회원가입해서 API키를 받습니다.\n",
        "\n",
        "API키 복사\n",
        "발급 받은 API키를 -reg 인자 다음에 입력하여 등록합니다."
      ],
      "metadata": {
        "id": "mhnOpMybeb9r"
      }
    },
    {
      "cell_type": "code",
      "source": [
        "!BAREUN_ROOT=\"/opt/bareun\" LD_LIBRARY_PATH=\"/opt/bareun/lib\" /opt/bareun/bin/bareun -reg YOUR-API-KEY"
      ],
      "metadata": {
        "id": "gW5lSyC_edSj"
      },
      "execution_count": null,
      "outputs": []
    },
    {
      "cell_type": "markdown",
      "source": [
        "## 바른 사용하기\n",
        "**PIP 패키지 설치**\n"
      ],
      "metadata": {
        "id": "k_FE9g6zdz6L"
      }
    },
    {
      "cell_type": "code",
      "source": [
        "!pip install -U bareunpy"
      ],
      "metadata": {
        "colab": {
          "base_uri": "https://localhost:8080/"
        },
        "id": "PZXCJIDTdy5w",
        "outputId": "0e9af2a7-8542-4b30-b8f3-dd1a21b67397"
      },
      "execution_count": 17,
      "outputs": [
        {
          "output_type": "stream",
          "name": "stdout",
          "text": [
            "Looking in indexes: https://pypi.org/simple, https://us-python.pkg.dev/colab-wheels/public/simple/\n",
            "Collecting bareunpy\n",
            "  Downloading bareunpy-1.6.0-py3-none-any.whl (14 kB)\n",
            "Requirement already satisfied: grpcio<2.0.0,>=1.46.0 in /usr/local/lib/python3.9/dist-packages (from bareunpy) (1.53.0)\n",
            "Requirement already satisfied: protobuf<4.0.0,>=3.19.4 in /usr/local/lib/python3.9/dist-packages (from bareunpy) (3.20.3)\n",
            "Collecting bareun-apis<0.13.0,>=0.12.0\n",
            "  Downloading bareun_apis-0.12.0-py3-none-any.whl (23 kB)\n",
            "Requirement already satisfied: googleapis-common-protos<2.0.0,>=1.56.0 in /usr/local/lib/python3.9/dist-packages (from bareunpy) (1.59.0)\n",
            "Installing collected packages: bareun-apis, bareunpy\n",
            "Successfully installed bareun-apis-0.12.0 bareunpy-1.6.0\n"
          ]
        }
      ]
    },
    {
      "cell_type": "code",
      "source": [
        "import sys\n",
        "import bareunpy as brn\n",
        "import google.protobuf.text_format as tf\n",
        "API_KEY = \"YOUR-API-KEY\"\n",
        "tagger = brn.Tagger(API_KEY, \"localhost\", 5656)"
      ],
      "metadata": {
        "id": "UbfBMhf9dVum"
      },
      "execution_count": 18,
      "outputs": []
    },
    {
      "cell_type": "markdown",
      "source": [
        "## 샘플 텍스트 파일 다운로드\n",
        "\n",
        "* 15만 문장으로 구성된 샘플 텍스트 파일입니다."
      ],
      "metadata": {
        "id": "vYBFwl-4k4Qj"
      }
    },
    {
      "cell_type": "code",
      "source": [
        "!pip install -U gdown"
      ],
      "metadata": {
        "id": "GPpDyJPNfEo_"
      },
      "execution_count": null,
      "outputs": []
    },
    {
      "cell_type": "code",
      "source": [
        "!gdown  https://drive.google.com/file/d/1ajJlbc-i_1nCA92tx7lUuCwft4Qkwbfi/view?usp=share_link -O test_sentences.txt --fuzzy"
      ],
      "metadata": {
        "id": "faGheusxfGvn"
      },
      "execution_count": null,
      "outputs": []
    },
    {
      "cell_type": "code",
      "source": [
        "!pip install tqdm"
      ],
      "metadata": {
        "id": "qBFMOGa79qFQ"
      },
      "execution_count": null,
      "outputs": []
    },
    {
      "cell_type": "markdown",
      "source": [
        "## 대용량 코퍼스 처리 \n",
        "\n",
        "* 바른 형태소 분석기를 통해서 많은 문장을 처리하는데 효율적인 방법으로 한 번에 하나의 문장을 요청하는 것이 아닌 많은 문장을 합쳐서 한 번에 요청하는 방법이 있습니다.\n",
        "* 이렇게 요청을 해도 거의 동일한 결과를 얻을 수 있습니다.\n",
        "* '\\n' 줄바꿈 문자로 구분된 txt 파일을 불러와서 여러 문장을 하나의 문장으로 합쳐서 형태소 분석을 요청하는 것입니다.\n",
        "* 이렇게 하면 많은 양의 텍스트도 빠르게 처리할 수 있습니다. \n",
        "* 아래 코드를 실행하면 yaml 파일로 문장과 해당 문장의 형태소 분석 결과가 저장됩니다. GPU를 사용한다면 47초 정도 소요되디만, 1문장씩 요청한다면 "
      ],
      "metadata": {
        "id": "FlySzjiiaTwM"
      }
    },
    {
      "cell_type": "code",
      "execution_count": null,
      "metadata": {
        "id": "MSRc3kgvZk8C"
      },
      "outputs": [],
      "source": [
        "import yaml\n",
        "import time\n",
        "from tqdm import tqdm\n",
        "\n",
        "sent_dict = []\n",
        "time1 = time.time()\n",
        "\n",
        "with open(\"test_sentences.txt\", 'r', encoding='utf-8') as f:\n",
        "  lines = f.readlines()           \n",
        "  len_lines = len(lines)\n",
        "  num_itters = len_lines//500 + 1 if len_lines%500 != 0 else len_lines//500\n",
        "  tt = []    \n",
        "  for i in range(num_itters):\n",
        "      tt.append(\"\".join(lines[500*i:500*(i+1)]))\n",
        "  for text in tqdm(tt):\n",
        "      res = tagger.tags([text]).msg()\n",
        "      len_sent = len(res.sentences)\n",
        "      for idx in range(0, len_sent):\n",
        "          key = res.sentences[idx].text.content\n",
        "          sentence = {key: []}      \n",
        "          for tok in res.sentences[idx].tokens:\n",
        "              sentence[key].append({\n",
        "                          \"token\": tok.text.content,\n",
        "                          \"tag\": tok.tagged\n",
        "                      })\n",
        "          sent_dict.append(sentence)\n",
        "\n",
        "elapsed_call_time = time.time() - time1\n",
        "print(f'elapsed_call_time: {elapsed_call_time:.3f}')\n",
        "\n",
        "with open(f'test_sentences.yaml', 'w', encoding='utf-8') as outfile:\n",
        "    yaml.dump(sent_dict, outfile, default_flow_style=False, allow_unicode=True, sort_keys=False)\n",
        "print('saved output -> test_sentences.yaml')"
      ]
    },
    {
      "cell_type": "markdown",
      "source": [
        "* GPU 사용, 다중 문장 요청, 47초 소요, 약 19배 향상\n",
        "```\n",
        "100%|█████████████████████████████████████████████████████████████████████████████████████████████████████████████████████████████████████████████████████████████████████| 300/300 [00:47<00:00,  7.69it/s]\n",
        "elapsed_call_time: 47.707\n",
        "saved output -> test_sentences.yaml\n",
        "```\n",
        "\n",
        "* GPU 사용, 한 개의 문장씩 요청한 경우, 961초 소요 \n",
        "```\n",
        "100%|██████████████████████████████████████████████████████████████████████████████████████████████████████████████████████████████████████████████████████████████| 150000/150000 [16:01<00:00, 156.04it/s]\n",
        "elapsed_call_time: 961.348\n",
        "saved output -> test_sentences.yaml\n",
        "```\n",
        "\n"
      ],
      "metadata": {
        "id": "U_hSjSlB_rkv"
      }
    }
  ]
}