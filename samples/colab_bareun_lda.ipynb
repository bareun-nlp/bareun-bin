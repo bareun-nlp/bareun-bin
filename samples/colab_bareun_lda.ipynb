{
  "nbformat": 4,
  "nbformat_minor": 0,
  "metadata": {
    "colab": {
      "provenance": [],
      "gpuType": "T4"
    },
    "kernelspec": {
      "name": "python3",
      "display_name": "Python 3"
    },
    "language_info": {
      "name": "python"
    },
    "accelerator": "GPU"
  },
  "cells": [
    {
      "cell_type": "markdown",
      "source": [
        "## 바른 형태소 분석기 활용 5(토픽 모델링)\n",
        "(이미 설치를 완료하신 분들은 아래 '샘플 텍스트 파일 다운로드' 부분부터 실행하면 됩니다.)\n",
        "\n",
        "바른 설치\n",
        "바른을 설치합니다.\n",
        "\n",
        "바른의 리눅스 설치본을 다운로드 받습니다."
      ],
      "metadata": {
        "id": "U4TgCGKCasSO"
      }
    },
    {
      "cell_type": "code",
      "source": [
        "!curl -LJks -H \"uname:$(uname -a)\" https://bareun.ai/api/get -o bareun-linux.deb\n",
        "!ls"
      ],
      "metadata": {
        "colab": {
          "base_uri": "https://localhost:8080/"
        },
        "id": "V7_Nz13GZ44q",
        "outputId": "64f16dab-88c4-4e9c-f6be-046d6085ad51"
      },
      "execution_count": 2,
      "outputs": [
        {
          "output_type": "stream",
          "name": "stdout",
          "text": [
            "bareun-linux.deb\t\t\t     nohup.out\t  summary_sentences.txt\n",
            "libtensorflow-gpu-linux-x86_64-2.9.1.tar.gz  sample_data\n"
          ]
        }
      ]
    },
    {
      "cell_type": "code",
      "source": [
        "!uname -a"
      ],
      "metadata": {
        "colab": {
          "base_uri": "https://localhost:8080/"
        },
        "id": "xFhStLRBZ8GT",
        "outputId": "183a0563-06f6-4731-fdb8-0c145308d174"
      },
      "execution_count": 3,
      "outputs": [
        {
          "output_type": "stream",
          "name": "stdout",
          "text": [
            "Linux 2fc4d1c2e495 5.15.109+ #1 SMP Fri Jun 9 10:57:30 UTC 2023 x86_64 x86_64 x86_64 GNU/Linux\n"
          ]
        }
      ]
    },
    {
      "cell_type": "markdown",
      "source": [
        "**바른**을 설치합니다."
      ],
      "metadata": {
        "id": "eMy_0XNla6Q8"
      }
    },
    {
      "cell_type": "code",
      "source": [
        "!dpkg -i bareun-linux.deb"
      ],
      "metadata": {
        "colab": {
          "base_uri": "https://localhost:8080/"
        },
        "id": "l0Zo4lyqZ9Wc",
        "outputId": "443d26d8-bcbb-41f8-bd2f-24687939f770"
      },
      "execution_count": 4,
      "outputs": [
        {
          "output_type": "stream",
          "name": "stdout",
          "text": [
            "(Reading database ... 120694 files and directories currently installed.)\n",
            "Preparing to unpack bareun-linux.deb ...\n",
            "System has not been booted with systemd as init system (PID 1). Can't operate.\n",
            "Failed to connect to bus: Host is down\n",
            "System has not been booted with systemd as init system (PID 1). Can't operate.\n",
            "Failed to connect to bus: Host is down\n",
            "Removed /etc/systemd/system/multi-user.target.wants/bareun.service.\n",
            "Unpacking bareun (2.1.0) over (2.1.0) ...\n",
            "Setting up bareun (2.1.0) ...\n",
            "System has not been booted with systemd as init system (PID 1). Can't operate.\n",
            "Failed to connect to bus: Host is down\n",
            "System has not been booted with systemd as init system (PID 1). Can't operate.\n",
            "Failed to connect to bus: Host is down\n",
            "Created symlink /etc/systemd/system/multi-user.target.wants/bareun.service → /etc/systemd/system/bareun.service.\n"
          ]
        }
      ]
    },
    {
      "cell_type": "markdown",
      "source": [
        "아래는 바른 모델이 GPU를 사용하기 위해서 다운받는 tensorflow 라이브러리입니다.\n",
        "\n",
        "상단의 메뉴탭의 \"런타임 > 런타임 유형 변경 > 하드웨어 가속기 > GPU 선택 > 저장\"을 설정하시면 모델의 추론 속도가 더 빨라집니다. 단, 무료버전의 경우 coloab의 일일 사용 제한을 초과하지 않아야 합니다.\n",
        "\n",
        "기본적으로 CPU를 사용해도 작동합니다."
      ],
      "metadata": {
        "id": "oOejuNAuaPSu"
      }
    },
    {
      "cell_type": "code",
      "source": [
        "!curl -O https://storage.googleapis.com/tensorflow/libtensorflow/libtensorflow-gpu-linux-x86_64-2.9.1.tar.gz"
      ],
      "metadata": {
        "colab": {
          "base_uri": "https://localhost:8080/"
        },
        "id": "AA_GGogIaH7M",
        "outputId": "f5e09251-d916-4422-d19c-7a09e94cae2d"
      },
      "execution_count": 5,
      "outputs": [
        {
          "output_type": "stream",
          "name": "stdout",
          "text": [
            "  % Total    % Received % Xferd  Average Speed   Time    Time     Time  Current\n",
            "                                 Dload  Upload   Total   Spent    Left  Speed\n",
            "100  392M  100  392M    0     0   211M      0  0:00:01  0:00:01 --:--:--  210M\n"
          ]
        }
      ]
    },
    {
      "cell_type": "code",
      "source": [
        "!tar -C /opt/bareun/ -xzf libtensorflow-gpu-linux-x86_64-2.9.1.tar.gz"
      ],
      "metadata": {
        "id": "kMWeiR6VbD71"
      },
      "execution_count": 6,
      "outputs": []
    },
    {
      "cell_type": "code",
      "source": [
        "import tensorflow as tf\n",
        "\n",
        "device_name = tf.test.gpu_device_name()\n",
        "\n",
        "if device_name != '/device:GPU:0':\n",
        "  print('GPU device not found')\n",
        "else:\n",
        "  print('Found GPU at: {}'.format(device_name))"
      ],
      "metadata": {
        "colab": {
          "base_uri": "https://localhost:8080/"
        },
        "id": "hiHeTS523jJD",
        "outputId": "13b7f668-8c8b-484a-9e65-88708d856505"
      },
      "execution_count": 7,
      "outputs": [
        {
          "output_type": "stream",
          "name": "stdout",
          "text": [
            "Found GPU at: /device:GPU:0\n"
          ]
        }
      ]
    },
    {
      "cell_type": "markdown",
      "source": [
        "## 환경 설정하기\n",
        "아래 코드는 BAREUN_ROOT와 LD_LIBRARY_PATH를 설정하고, /opt/bareun/bin/bareun을 백그라운드로 실행하는 코드입니다."
      ],
      "metadata": {
        "id": "rIr3OdJseIf9"
      }
    },
    {
      "cell_type": "code",
      "source": [
        "%env BAREUN_ROOT=\"/opt/bareun\"\n",
        "%env LD_LIBRARY_PATH=\"/opt/bareun/lib\"\n",
        "!BAREUN_ROOT=\"/opt/bareun\" LD_LIBRARY_PATH=\"/opt/bareun/lib\" nohup /opt/bareun/bin/bareun&\n"
      ],
      "metadata": {
        "colab": {
          "base_uri": "https://localhost:8080/"
        },
        "id": "NWKd0c96eN7q",
        "outputId": "6b2a0081-9aed-4a50-cb82-4692e8828a88"
      },
      "execution_count": 8,
      "outputs": [
        {
          "output_type": "stream",
          "name": "stdout",
          "text": [
            "env: BAREUN_ROOT=\"/opt/bareun\"\n",
            "env: LD_LIBRARY_PATH=\"/opt/bareun/lib\"\n",
            "nohup: appending output to 'nohup.out'\n"
          ]
        }
      ]
    },
    {
      "cell_type": "code",
      "source": [
        "!ps -ef | grep bareun"
      ],
      "metadata": {
        "colab": {
          "base_uri": "https://localhost:8080/"
        },
        "id": "qToA97ZneUvm",
        "outputId": "33dbe201-f534-4f66-972f-27e339958204"
      },
      "execution_count": 9,
      "outputs": [
        {
          "output_type": "stream",
          "name": "stdout",
          "text": [
            "root        4274       1 47 01:12 ?        00:09:26 /opt/bareun/bin/bareun\n",
            "root        9482       1  0 01:31 ?        00:00:00 /opt/bareun/bin/bareun\n",
            "root        9483    8383  0 01:31 ?        00:00:00 /bin/bash -c ps -ef | grep bareun\n",
            "root        9485    9483  0 01:31 ?        00:00:00 grep bareun\n"
          ]
        }
      ]
    },
    {
      "cell_type": "markdown",
      "source": [
        "API키 발급 바른 홈페이지(https://bareun.ai/) 에 회원가입해서 API키를 받습니다.\n",
        "\n",
        "API키 복사\n",
        "발급 받은 API키를 -reg 인자 다음에 입력하여 등록합니다."
      ],
      "metadata": {
        "id": "mhnOpMybeb9r"
      }
    },
    {
      "cell_type": "code",
      "source": [
        "!BAREUN_ROOT=\"/opt/bareun\" LD_LIBRARY_PATH=\"/opt/bareun/lib\" /opt/bareun/bin/bareun -reg \"YOUR-API-KEY\""
      ],
      "metadata": {
        "id": "gW5lSyC_edSj"
      },
      "execution_count": null,
      "outputs": []
    },
    {
      "cell_type": "markdown",
      "source": [
        "## 바른 사용하기\n",
        "**PIP 패키지 설치**\n"
      ],
      "metadata": {
        "id": "k_FE9g6zdz6L"
      }
    },
    {
      "cell_type": "code",
      "source": [
        "!pip install -U bareunpy"
      ],
      "metadata": {
        "colab": {
          "base_uri": "https://localhost:8080/"
        },
        "id": "PZXCJIDTdy5w",
        "outputId": "c6ceb8d3-46ec-422d-8831-f870e9e92398"
      },
      "execution_count": 11,
      "outputs": [
        {
          "output_type": "stream",
          "name": "stdout",
          "text": [
            "Requirement already satisfied: bareunpy in /usr/local/lib/python3.10/dist-packages (1.6.2)\n",
            "Requirement already satisfied: bareun-apis<0.13.0,>=0.12.0 in /usr/local/lib/python3.10/dist-packages (from bareunpy) (0.12.0)\n",
            "Requirement already satisfied: googleapis-common-protos<2.0.0,>=1.56.0 in /usr/local/lib/python3.10/dist-packages (from bareunpy) (1.59.1)\n",
            "Requirement already satisfied: grpcio<2.0.0,>=1.46.0 in /usr/local/lib/python3.10/dist-packages (from bareunpy) (1.56.2)\n",
            "Requirement already satisfied: protobuf<4.0.0,>=3.19.4 in /usr/local/lib/python3.10/dist-packages (from bareunpy) (3.20.3)\n"
          ]
        }
      ]
    },
    {
      "cell_type": "code",
      "source": [
        "import sys\n",
        "from bareunpy import Tagger\n",
        "import google.protobuf.text_format as tf\n",
        "API_KEY = \"YOUR-API-KEY\"\n",
        "tagger = Tagger(API_KEY, \"localhost\", 5656)"
      ],
      "metadata": {
        "id": "UbfBMhf9dVum"
      },
      "execution_count": null,
      "outputs": []
    },
    {
      "cell_type": "markdown",
      "source": [
        "## 샘플 텍스트 파일 다운로드\n",
        "\n",
        "* 약 8,600개의 문장으로 구성된 샘플 텍스트 파일입니다.\n",
        "* Aihub 기술과학요약 데이터의 일부를 추출했습니다."
      ],
      "metadata": {
        "id": "vYBFwl-4k4Qj"
      }
    },
    {
      "cell_type": "code",
      "source": [
        "!pip install -U gdown"
      ],
      "metadata": {
        "id": "GPpDyJPNfEo_",
        "colab": {
          "base_uri": "https://localhost:8080/"
        },
        "outputId": "95fbc784-be94-4289-d910-acc49687f397"
      },
      "execution_count": 13,
      "outputs": [
        {
          "output_type": "stream",
          "name": "stdout",
          "text": [
            "Requirement already satisfied: gdown in /usr/local/lib/python3.10/dist-packages (4.7.1)\n",
            "Requirement already satisfied: filelock in /usr/local/lib/python3.10/dist-packages (from gdown) (3.12.2)\n",
            "Requirement already satisfied: requests[socks] in /usr/local/lib/python3.10/dist-packages (from gdown) (2.27.1)\n",
            "Requirement already satisfied: six in /usr/local/lib/python3.10/dist-packages (from gdown) (1.16.0)\n",
            "Requirement already satisfied: tqdm in /usr/local/lib/python3.10/dist-packages (from gdown) (4.65.0)\n",
            "Requirement already satisfied: beautifulsoup4 in /usr/local/lib/python3.10/dist-packages (from gdown) (4.11.2)\n",
            "Requirement already satisfied: soupsieve>1.2 in /usr/local/lib/python3.10/dist-packages (from beautifulsoup4->gdown) (2.4.1)\n",
            "Requirement already satisfied: urllib3<1.27,>=1.21.1 in /usr/local/lib/python3.10/dist-packages (from requests[socks]->gdown) (1.26.16)\n",
            "Requirement already satisfied: certifi>=2017.4.17 in /usr/local/lib/python3.10/dist-packages (from requests[socks]->gdown) (2023.7.22)\n",
            "Requirement already satisfied: charset-normalizer~=2.0.0 in /usr/local/lib/python3.10/dist-packages (from requests[socks]->gdown) (2.0.12)\n",
            "Requirement already satisfied: idna<4,>=2.5 in /usr/local/lib/python3.10/dist-packages (from requests[socks]->gdown) (3.4)\n",
            "Requirement already satisfied: PySocks!=1.5.7,>=1.5.6 in /usr/local/lib/python3.10/dist-packages (from requests[socks]->gdown) (1.7.1)\n"
          ]
        }
      ]
    },
    {
      "cell_type": "code",
      "source": [
        "!gdown  https://drive.google.com/file/d/14Qs9KI68z0RdJ9q8G__2fgsv0jNI43m_/view?usp=sharing -O summary_sentences.txt --fuzzy"
      ],
      "metadata": {
        "colab": {
          "base_uri": "https://localhost:8080/"
        },
        "id": "faGheusxfGvn",
        "outputId": "e6f29ad6-8408-4328-e1e2-e401535a51d0"
      },
      "execution_count": 14,
      "outputs": [
        {
          "output_type": "stream",
          "name": "stdout",
          "text": [
            "Downloading...\n",
            "From: https://drive.google.com/uc?id=14Qs9KI68z0RdJ9q8G__2fgsv0jNI43m_\n",
            "To: /content/summary_sentences.txt\n",
            "\r  0% 0.00/4.21M [00:00<?, ?B/s]\r100% 4.21M/4.21M [00:00<00:00, 167MB/s]\n"
          ]
        }
      ]
    },
    {
      "cell_type": "code",
      "source": [
        "# 필요한 패키지 설치\n",
        "!pip install tqdm gensim pandas==1.5.3 pyLDAvis"
      ],
      "metadata": {
        "id": "qBFMOGa79qFQ",
        "colab": {
          "base_uri": "https://localhost:8080/"
        },
        "outputId": "e4e73c3f-bd51-4a73-a989-feaf4489988b"
      },
      "execution_count": 15,
      "outputs": [
        {
          "output_type": "stream",
          "name": "stdout",
          "text": [
            "Requirement already satisfied: tqdm in /usr/local/lib/python3.10/dist-packages (4.65.0)\n",
            "Requirement already satisfied: gensim in /usr/local/lib/python3.10/dist-packages (4.3.1)\n",
            "Requirement already satisfied: pandas==1.5.3 in /usr/local/lib/python3.10/dist-packages (1.5.3)\n",
            "Requirement already satisfied: pyLDAvis in /usr/local/lib/python3.10/dist-packages (3.4.0)\n",
            "Requirement already satisfied: python-dateutil>=2.8.1 in /usr/local/lib/python3.10/dist-packages (from pandas==1.5.3) (2.8.2)\n",
            "Requirement already satisfied: pytz>=2020.1 in /usr/local/lib/python3.10/dist-packages (from pandas==1.5.3) (2022.7.1)\n",
            "Requirement already satisfied: numpy>=1.21.0 in /usr/local/lib/python3.10/dist-packages (from pandas==1.5.3) (1.22.4)\n",
            "Requirement already satisfied: scipy>=1.7.0 in /usr/local/lib/python3.10/dist-packages (from gensim) (1.10.1)\n",
            "Requirement already satisfied: smart-open>=1.8.1 in /usr/local/lib/python3.10/dist-packages (from gensim) (6.3.0)\n",
            "Requirement already satisfied: joblib>=1.2.0 in /usr/local/lib/python3.10/dist-packages (from pyLDAvis) (1.3.1)\n",
            "Requirement already satisfied: jinja2 in /usr/local/lib/python3.10/dist-packages (from pyLDAvis) (3.1.2)\n",
            "Requirement already satisfied: numexpr in /usr/local/lib/python3.10/dist-packages (from pyLDAvis) (2.8.4)\n",
            "Requirement already satisfied: funcy in /usr/local/lib/python3.10/dist-packages (from pyLDAvis) (2.0)\n",
            "Requirement already satisfied: scikit-learn>=1.0.0 in /usr/local/lib/python3.10/dist-packages (from pyLDAvis) (1.2.2)\n",
            "Requirement already satisfied: setuptools in /usr/local/lib/python3.10/dist-packages (from pyLDAvis) (67.7.2)\n",
            "Requirement already satisfied: six>=1.5 in /usr/local/lib/python3.10/dist-packages (from python-dateutil>=2.8.1->pandas==1.5.3) (1.16.0)\n",
            "Requirement already satisfied: threadpoolctl>=2.0.0 in /usr/local/lib/python3.10/dist-packages (from scikit-learn>=1.0.0->pyLDAvis) (3.2.0)\n",
            "Requirement already satisfied: MarkupSafe>=2.0 in /usr/local/lib/python3.10/dist-packages (from jinja2->pyLDAvis) (2.1.3)\n"
          ]
        }
      ]
    },
    {
      "cell_type": "markdown",
      "source": [
        "## 토픽 모델링 실행하기"
      ],
      "metadata": {
        "id": "1zClCfxNcnrH"
      }
    },
    {
      "cell_type": "code",
      "source": [
        "import re\n",
        "from tqdm import tqdm\n",
        "\n",
        "from gensim import corpora\n",
        "import gensim\n",
        "import pyLDAvis.gensim_models"
      ],
      "metadata": {
        "id": "HtyRPqtcFeQJ"
      },
      "execution_count": 16,
      "outputs": []
    },
    {
      "cell_type": "code",
      "source": [
        "def preprocess_text(lines, tagger):\n",
        "    \"\"\"\n",
        "    불용어를 제거하기 위해 토큰화한다.\n",
        "    :param lines: 문장 리스트\n",
        "    :param tagger: 형태소 분석 객체\n",
        "    :return: 토큰화된 문장 리스트\n",
        "    \"\"\"\n",
        "    tokenized_lines = []\n",
        "    for line in tqdm(lines):\n",
        "        # 한글만 추출하는 정규표현식\n",
        "        line = re.sub('[^가-힣]', '', line)\n",
        "\n",
        "        tagged = tagger.tags([line], auto_spacing=False, auto_jointing=False)\n",
        "        tokens = []\n",
        "        # 명사만 추출\n",
        "        for p in tagged.pos():\n",
        "          if (p[1] == 'NNG' or p[1] == 'NNP') and len(p[0]) > 1: # 한 글자 단어 제외\n",
        "                tokens.append(p[0])\n",
        "        tokenized_lines.append(tokens)\n",
        "\n",
        "    return tokenized_lines"
      ],
      "metadata": {
        "id": "mimLCLlHFiOD",
        "colab": {
          "base_uri": "https://localhost:8080/"
        },
        "outputId": "d2caeb3e-bfb9-476b-f6db-ac5a5b114fe5"
      },
      "execution_count": 17,
      "outputs": [
        {
          "output_type": "stream",
          "name": "stderr",
          "text": [
            "/usr/local/lib/python3.10/dist-packages/ipykernel/ipkernel.py:283: DeprecationWarning: `should_run_async` will not call `transform_cell` automatically in the future. Please pass the result to `transformed_cell` argument and any exception that happen during thetransform in `preprocessing_exc_tuple` in IPython 7.17 and above.\n",
            "  and should_run_async(code)\n"
          ]
        }
      ]
    },
    {
      "cell_type": "markdown",
      "source": [
        "### 1. corpus 준비하기\n",
        "* 기술과학 요약 데이터에서 추출한 text 파일을 불러옵니다."
      ],
      "metadata": {
        "id": "1o0Xv-isIwmS"
      }
    },
    {
      "cell_type": "code",
      "source": [
        "with open('summary_sentences.txt', 'r', encoding='utf-8') as file:\n",
        "    lines = file.readlines()\n",
        "print(lines[:5])"
      ],
      "metadata": {
        "colab": {
          "base_uri": "https://localhost:8080/"
        },
        "id": "MI-SVfiRJNum",
        "outputId": "e203aa7e-35c3-451e-bbac-013caeccd31f"
      },
      "execution_count": 18,
      "outputs": [
        {
          "output_type": "stream",
          "name": "stdout",
          "text": [
            "['스마트 팩토리 구축을 위해서 다양한 센서들을 기존의 공정 설비 및 제조 장비 내에 설치하는 과정이 필요하며, 센서들로부터 수집한 데이터등은 서버로 전송된다. 이때 스마트 팩토리를 구축하려면, 기존의 공정 설비 또는 제조 장비들을 커스터마이징하거나 새로운 설비 및 장비의 개발의 선행이 이루어져야한다. 논문에서는 중소기업에서 원격 제어 시스템을 통해 단계적으로 기능을 추가하는 스마트 팩토리 환경 구축을 제안한다. 특히 따라서 원격 제어 시스템 중 CNC절단 장비를 대상으로 제안하며, 기존 CNC 절단 장비와의 호환성을 위해 절단 장비 내 PLC의 연동에 초점을 맞추고자 한다.\\n', '서버와 데이터베이스는 Node.js와 MySQL을 활용하고 자바를 사용한 Data collection module과 Control module을 구현한 CNC 절단 장비를 이용하여 원격 제어 시스템의 구조 및 설계를 검증하는데 영상데이터 재생을 지원하는 방법으로 웹페이지에서 CNC 절단 장비의 현재 상태 모니터링 페이지를 나타내고, 동일한 기능을 제공하도록 안드로이드 어플리케이션을 같이 개발하였다.\\n', '국내외 여러 회사들이 유무선네트워크 및 센서 등의 기술과 기계학습으로 대표되는 지능화 기술이 발전함에 따라 설비운영의 효율화, 비용절감, 새로운 제품 및 서비스 제공의 이점에 의해 빅데이터 및 기계 학습 기반의 지능화를 통한 자동적인 공정 제어를 목표로 하는 스마트 팩토리로의 전환을 진행하고 있다.\\n', '제조 장비는 Data collection module과 Control module 로 구성되며, 다음 구성요소인 서버는 Data collection module과의 통신을 통해 센싱 데이터를 수신 받아 데이터베이스에 저장하고 모니터링 프로그램에 CNC 절단 장비의 상태 정보를 제공하며, 마지막 구성요소로서 웹과 안드로이드 어플리케이션을 통해 사용자에게 제조 장비의 현재 상태 모니터링 기능과 장비의 제어 명령 인터페이스를 제공한다.\\n', 'Controlmodule은 사설 IP로 구성된 제조 장비에서 직접 제어 명령 데이터를 수신할 수 없어 추가적인 지연이 발생할 수 있다. 그러나 제어 명령 확인 주기를 짧게 유지하면 이 문제를 해결할 수 있다. 원격 제어 시스템은 다양한 센서와 제어 기능을 가진 CNC 절단기 장비에 대해 사전 정의하기 어렵기 때문에, 관리자는 Configure.html을 통해 센싱 데이터와 제어 명령을 설정한다. 웹 인터페이스를 통해 제어 명령을 CNC 절단 장비에 전달할 수 있다.\\n']\n"
          ]
        },
        {
          "output_type": "stream",
          "name": "stderr",
          "text": [
            "/usr/local/lib/python3.10/dist-packages/ipykernel/ipkernel.py:283: DeprecationWarning: `should_run_async` will not call `transform_cell` automatically in the future. Please pass the result to `transformed_cell` argument and any exception that happen during thetransform in `preprocessing_exc_tuple` in IPython 7.17 and above.\n",
            "  and should_run_async(code)\n"
          ]
        }
      ]
    },
    {
      "cell_type": "markdown",
      "source": [
        "### 2 형태소 분석 및 명사 추출\n",
        "\n",
        "* preprocess_text 함수를 실행하여 바른 형태소 분석을 수행하고 명사만을 추출합니다."
      ],
      "metadata": {
        "id": "lOi3fMsRd_8S"
      }
    },
    {
      "cell_type": "code",
      "source": [
        "tokenized_lines = preprocess_text(lines, tagger)\n",
        "print(tokenized_lines[:5])"
      ],
      "metadata": {
        "colab": {
          "base_uri": "https://localhost:8080/"
        },
        "id": "8aYTCtx6eQ2X",
        "outputId": "9a51dfdc-ff55-4d3d-f92b-bcaabd13a085"
      },
      "execution_count": 22,
      "outputs": [
        {
          "output_type": "stream",
          "name": "stderr",
          "text": [
            "/usr/local/lib/python3.10/dist-packages/ipykernel/ipkernel.py:283: DeprecationWarning: `should_run_async` will not call `transform_cell` automatically in the future. Please pass the result to `transformed_cell` argument and any exception that happen during thetransform in `preprocessing_exc_tuple` in IPython 7.17 and above.\n",
            "  and should_run_async(code)\n",
            "100%|██████████| 8647/8647 [06:41<00:00, 21.52it/s]"
          ]
        },
        {
          "output_type": "stream",
          "name": "stdout",
          "text": [
            "[['스마트', '팩토리', '구축', '다양', '센서', '기존', '공정', '설비', '제조', '장비', '설치', '과정', '필요', '센서', '수집', '데이터', '서버', '전송', '다이때', '스마트', '팩토리', '구축', '하려면', '기존', '공정', '설비', '제조', '장비', '커스터', '마이징', '설비', '장비', '개발', '선행', '논문', '중소기업', '원격', '제어', '시스템', '단계', '기능', '추가', '스마트', '팩토리', '환경', '구축', '제안', '원격', '제어', '시스템', '중절단', '장비', '대상', '제안', '기존', '절단', '장비', '호환', '절단', '장비', '연동', '초점'], ['서버', '데이터베이스', '와을', '활용', '사용', '구현', '절단', '장비', '이용', '원격', '제어', '시스템', '구조', '설계', '검증', '영상', '데이터', '재생', '지원', '방법', '페이지', '절단', '장비', '현재', '상태', '모니터링페이지', '동일', '기능', '제공', '안드로이드어플리케이션', '개발'], ['국내외', '회사', '유무선', '네트워크', '센서', '기술', '기계', '학습', '대표', '지능', '기술', '발전', '설비', '운영', '효율', '비용', '절감', '제품', '서비스', '제공', '이점', '빅데', '기계', '학습', '기반', '지능', '자동', '공정', '제어', '목표', '스마트', '팩토리', '전환', '진행'], ['제조', '장비', '구성', '다음', '구성', '요소', '서버', '통신', '센싱데이터', '수신', '데이터베이스', '저장', '모니터링', '프로그램', '절단', '장비', '상태', '정보', '제공', '마지막', '구성요소', '안드로이드어플리케이션', '사용자', '제조', '장비', '현재', '상태', '모니터링', '기능', '장비', '제어', '명령', '터페이스', '제공'], ['은사설', '구성', '제조', '장비', '직접', '제어', '명령', '데이터', '수신', '추가', '지연', '발생', '제어', '명령', '확인', '주기', '유지', '문제', '해결', '원격', '제어', '시스템은', '다양', '센서', '제어', '기능', '단기', '장비', '사전', '정의', '관리자', '센싱데이터', '제어', '명령', '설정', '인터페이스', '제어', '명령', '절단', '장비', '전달']]\n"
          ]
        },
        {
          "output_type": "stream",
          "name": "stderr",
          "text": [
            "\n"
          ]
        }
      ]
    },
    {
      "cell_type": "markdown",
      "source": [
        "### 3. 정수 인코딩 및 단어 집합 생성\n",
        "* gensim의 Dictionary 객체를 생성합니다. 이 객체는 텍스트 데이터의 각 단어에 고유한 정수 ID를 할당합니다.\n",
        "* 그리고 각 문서를 'bag-of-words'형식으로 변환합니다.\n",
        "* 'bag-of-words'는 텍스트 데이터를 숫자로 표현하는 일반적인 방법으로 각 단어의 빈도를 나타냅니다."
      ],
      "metadata": {
        "id": "MuNUgdtHec_G"
      }
    },
    {
      "cell_type": "code",
      "source": [
        "dictionary = corpora.Dictionary(tokenized_lines)\n",
        "corpus = [dictionary.doc2bow(text) for text in tokenized_lines]"
      ],
      "metadata": {
        "id": "27khXOM5edYA",
        "colab": {
          "base_uri": "https://localhost:8080/"
        },
        "outputId": "7cb40d6b-8126-45ae-997c-80ca7824f76a"
      },
      "execution_count": 23,
      "outputs": [
        {
          "output_type": "stream",
          "name": "stderr",
          "text": [
            "/usr/local/lib/python3.10/dist-packages/ipykernel/ipkernel.py:283: DeprecationWarning: `should_run_async` will not call `transform_cell` automatically in the future. Please pass the result to `transformed_cell` argument and any exception that happen during thetransform in `preprocessing_exc_tuple` in IPython 7.17 and above.\n",
            "  and should_run_async(code)\n"
          ]
        }
      ]
    },
    {
      "cell_type": "markdown",
      "source": [
        "### 4. LDA 모델 훈련시키기\n",
        "\n",
        "* corpus와 dictionary는 위에서 생성한 것을 사용합니다.\n",
        "* num_topics는 모델이 찾을 주제의 수를 지정하며, passes는 훈련 과정에서 데이터를 반복하는 횟수입니다. ldamodel.print_topics(num_words=4)를 통해 각 주제의 상위 4개 단어를 출력합니다."
      ],
      "metadata": {
        "id": "t4nn6CJNe0Ox"
      }
    },
    {
      "cell_type": "code",
      "source": [
        "NUM_TOPICS = 3 # 주제의 수\n",
        "lda_model = gensim.models.ldamodel.LdaModel(corpus, num_topics = NUM_TOPICS, id2word=dictionary, passes=15)\n",
        "topics = lda_model.print_topics(num_words=4)\n",
        "for topic in topics:\n",
        "    print(f'{topic[0]}번째 토픽: {topic[1]}')"
      ],
      "metadata": {
        "id": "7AghmhtjfA5n",
        "colab": {
          "base_uri": "https://localhost:8080/"
        },
        "outputId": "10ecfa43-9577-4d8c-f146-8705b1124b11"
      },
      "execution_count": 24,
      "outputs": [
        {
          "output_type": "stream",
          "name": "stderr",
          "text": [
            "/usr/local/lib/python3.10/dist-packages/ipykernel/ipkernel.py:283: DeprecationWarning: `should_run_async` will not call `transform_cell` automatically in the future. Please pass the result to `transformed_cell` argument and any exception that happen during thetransform in `preprocessing_exc_tuple` in IPython 7.17 and above.\n",
            "  and should_run_async(code)\n"
          ]
        },
        {
          "output_type": "stream",
          "name": "stdout",
          "text": [
            "0번째 토픽: 0.013*\"사용\" + 0.012*\"데이터\" + 0.011*\"시스템\" + 0.011*\"제안\"\n",
            "1번째 토픽: 0.076*\"함수\" + 0.031*\"집합\" + 0.018*\"정의\" + 0.015*\"정리\"\n",
            "2번째 토픽: 0.038*\"행렬\" + 0.030*\"확률\" + 0.022*\"벡터\" + 0.016*\"분포\"\n"
          ]
        }
      ]
    },
    {
      "cell_type": "markdown",
      "source": [
        "### 5. LDA 시각화하기\n",
        "\n",
        "* pyLDAvis라는 패키지를 사용하여 LDA 모델의 결과를 시각화합니다.\n",
        "* 이 패키지는 주제 간의 거리와 각 주제에서 가장 중요한 단어를 시각적으로 보여줍니다."
      ],
      "metadata": {
        "id": "iJwMrkdyfXNb"
      }
    },
    {
      "cell_type": "code",
      "source": [
        "pyLDAvis.enable_notebook()\n",
        "vis = pyLDAvis.gensim_models.prepare(lda_model, corpus, dictionary)\n",
        "pyLDAvis.display(vis)"
      ],
      "metadata": {
        "id": "z3XgcHbefWhh",
        "colab": {
          "base_uri": "https://localhost:8080/",
          "height": 950
        },
        "outputId": "994f1370-dfaf-415e-99d2-29af7e8c8d23"
      },
      "execution_count": 25,
      "outputs": [
        {
          "output_type": "stream",
          "name": "stderr",
          "text": [
            "/usr/local/lib/python3.10/dist-packages/ipykernel/ipkernel.py:283: DeprecationWarning: `should_run_async` will not call `transform_cell` automatically in the future. Please pass the result to `transformed_cell` argument and any exception that happen during thetransform in `preprocessing_exc_tuple` in IPython 7.17 and above.\n",
            "  and should_run_async(code)\n",
            "/usr/local/lib/python3.10/dist-packages/pyLDAvis/_prepare.py:244: FutureWarning: In a future version of pandas all arguments of DataFrame.drop except for the argument 'labels' will be keyword-only.\n",
            "  by='saliency', ascending=False).head(R).drop('saliency', 1)\n"
          ]
        },
        {
          "output_type": "execute_result",
          "data": {
            "text/plain": [
              "<IPython.core.display.HTML object>"
            ],
            "text/html": [
              "\n",
              "<link rel=\"stylesheet\" type=\"text/css\" href=\"https://cdn.jsdelivr.net/gh/bmabey/pyLDAvis@3.4.0/pyLDAvis/js/ldavis.v1.0.0.css\">\n",
              "\n",
              "\n",
              "<div id=\"ldavis_el83831397722801881282897753609\" style=\"background-color:white;\"></div>\n",
              "<script type=\"text/javascript\">\n",
              "\n",
              "var ldavis_el83831397722801881282897753609_data = {\"mdsDat\": {\"x\": [0.2756325458349239, -0.157709170038634, -0.11792337579628977], \"y\": [-0.015561079350046825, -0.15392818069385564, 0.16948926004390244], \"topics\": [1, 2, 3], \"cluster\": [1, 1, 1], \"Freq\": [53.623710770606316, 27.771853650565188, 18.60443557882849]}, \"tinfo\": {\"Term\": [\"\\ud568\\uc218\", \"\\ud589\\ub82c\", \"\\uc9d1\\ud569\", \"\\ud655\\ub960\", \"\\ubca1\\ud130\", \"\\uc5f0\\uc18d\", \"\\ubd84\\ud3ec\", \"\\uc801\\ubd84\", \"\\uc815\\uc758\", \"\\uc815\\ub9ac\", \"\\uacf5\\uac04\", \"\\ub370\\uc774\\ud130\", \"\\uc2dc\\uc2a4\\ud15c\", \"\\uc81c\\uc548\", \"\\ubc29\\uc815\\uc2dd\", \"\\uc815\\ubcf4\", \"\\ubcc0\\uc218\", \"\\uadf9\\ud55c\", \"\\uc218\\ub834\", \"\\uae30\\ubc95\", \"\\ubbf8\\ubd84\", \"\\uc874\\uc7ac\", \"\\uc131\\ub9bd\", \"\\uc11c\\ube44\\uc2a4\", \"\\ub124\\ud2b8\\uc6cc\\ud06c\", \"\\uc5f0\\uacb0\", \"\\uad6c\\uac04\", \"\\uc218\\uc5f4\", \"\\uc99d\\uba85\", \"\\uae30\\ubc18\", \"\\ub370\\uc774\\ud130\", \"\\uc2dc\\uc2a4\\ud15c\", \"\\uc81c\\uc548\", \"\\uc815\\ubcf4\", \"\\uae30\\ubc95\", \"\\uc11c\\ube44\\uc2a4\", \"\\ub124\\ud2b8\\uc6cc\\ud06c\", \"\\uae30\\ubc18\", \"\\uc131\\ub2a5\", \"\\uc804\\uc1a1\", \"\\uc0ac\\uc6a9\\uc790\", \"\\ub178\\ub4dc\", \"\\uc2dc\\uac04\", \"\\ubcf4\\uc548\", \"\\ud658\\uacbd\", \"\\uae30\\uc874\", \"\\uc218\\ud589\", \"\\ubaa8\\ub378\", \"\\uad00\\ub9ac\", \"\\ubd84\\uc11d\", \"\\uc54c\\uace0\\ub9ac\\uc998\", \"\\uc11c\\ubc84\", \"\\ud30c\\uc77c\", \"\\ud3c9\\uac00\", \"\\uba54\\uc2dc\\uc9c0\", \"\\ucc98\\ub9ac\", \"\\ubc29\\uc2dd\", \"\\uad6c\\ud604\", \"\\ud6a8\\uc728\", \"\\ud1b5\\uc2e0\", \"\\uc81c\\uacf5\", \"\\uae30\\uc220\", \"\\uc5f0\\uad6c\", \"\\ub17c\\ubb38\", \"\\uc0ac\\uc6a9\", \"\\ubc1c\\uc0dd\", \"\\ubc29\\ubc95\", \"\\uad6c\\uc131\", \"\\uc774\\uc6a9\", \"\\uc801\\uc6a9\", \"\\uac00\\ub2a5\", \"\\uacb0\\uacfc\", \"\\ud568\\uc218\", \"\\uc5f0\\uc18d\", \"\\uc801\\ubd84\", \"\\uadf9\\ud55c\", \"\\uc218\\ub834\", \"\\ubbf8\\ubd84\", \"\\uc218\\uc5f4\", \"\\uae09\\uc218\", \"\\ubcf5\\uc18c\\uc218\", \"\\uc704\\uc0c1\\uacf5\\uac04\", \"\\ubcf5\\uc18c\", \"\\uce58\\ud658\", \"\\uc720\\uacc4\", \"\\uadfc\\ubc29\", \"\\uc815\\uc801\\ubd84\", \"\\ubc1c\\uc0b0\", \"\\ubd84\\ubaa8\", \"\\uc811\\uc120\", \"\\uc5ed\\ud568\\uc218\", \"\\ud3b8\\ub3c4\", \"\\ud568\\uc218\\uac00\", \"\\ub3c4\\ud568\\uc218\", \"\\ub9e4\\uac1c\", \"\\ubd84\\uc218\", \"\\ud310\\uc815\\ubc95\", \"\\uc870\\ud654\", \"\\ud569\\uc131\", \"\\ucc28\\uc218\", \"\\ubb34\\ud55c\", \"\\uce58\\uc5ed\", \"\\uadf8\\ub798\\ud504\", \"\\ub2e4\\ud56d\\uc2dd\", \"\\uc9d1\\ud569\", \"\\uc815\\uc218\", \"\\uc704\\uc0c1\", \"\\ud574\\uc11d\", \"\\uad6c\\uac04\", \"\\uc2e4\\uc218\", \"\\uc815\\ub9ac\", \"\\ubc95\\uce59\", \"\\uacf5\\uc2dd\", \"\\uc815\\uc758\", \"\\uc0bc\\uac01\", \"\\uc874\\uc7ac\", \"\\uc131\\ub9bd\", \"\\uc608\\uc81c\", \"\\uace1\\uc120\", \"\\uc5f0\\uacb0\", \"\\uc99d\\uba85\", \"\\uac70\\ub9ac\", \"\\ubd80\\ubd84\", \"\\ub9cc\\uc871\", \"\\ud45c\\ud604\", \"\\uac00\\ub2a5\", \"\\uacbd\\uc6b0\", \"\\uc601\\uc5ed\", \"\\uacf5\\uac04\", \"\\ubb38\\uc81c\", \"\\uc774\\uc6a9\", \"\\uacc4\\uc0b0\", \"\\ubcc0\\uc218\", \"\\ud3ec\\ud568\", \"\\ud589\\ub82c\", \"\\ud655\\ub960\", \"\\ubca1\\ud130\", \"\\ubd84\\ud3ec\", \"\\ud45c\\ubcf8\", \"\\uc77c\\ucc28\", \"\\uc5f0\\ub9bd\", \"\\uc0ac\\uac74\", \"\\ubd80\\ud53c\", \"\\uc815\\uaddc\", \"\\uae30\\uc800\", \"\\uc120\\ud615\", \"\\uac80\\uc815\", \"\\uba85\\uc81c\", \"\\ubc00\\ub3c4\", \"\\uccb4\\uc704\", \"\\ud68c\\uc804\", \"\\uc0ac\\uac01\", \"\\ubd80\\ubd84\\uad70\", \"\\uc5ed\\ud589\\ub82c\", \"\\ud589\\ub82c\\uc2dd\", \"\\uc9c1\\uad50\", \"\\uc785\\uccb4\", \"\\uac00\\uc124\", \"\\ubaa8\\uc9d1\\ub2e8\", \"\\uac00\\uc5ed\", \"\\ub3d9\\ud615\", \"\\ubaa8\\uc218\", \"\\ub300\\uac01\", \"\\ubcf5\\ud569\\uccb4\", \"\\ub3c5\\ub9bd\", \"\\ucc28\\uc6d0\", \"\\uc88c\\ud45c\", \"\\uc0ac\\uc0c1\", \"\\ubc29\\uc815\\uc2dd\", \"\\uacf5\\uac04\", \"\\ubcc0\\uc218\", \"\\uacb0\\ud569\", \"\\ud3c9\\uade0\", \"\\uc131\\ubd84\", \"\\ubd84\\uc0b0\", \"\\uc6d0\\uc18c\", \"\\ud45c\\ud604\", \"\\uacbd\\uc6b0\", \"\\uc815\\uc758\", \"\\uc870\\uac74\", \"\\uc131\\ub9bd\", \"\\ub9cc\\uc871\", \"\\uc774\\uc6a9\", \"\\uacc4\\uc0b0\", \"\\ubc29\\ubc95\", \"\\uc99d\\uba85\", \"\\uc784\\uc758\"], \"Freq\": [4510.0, 1502.0, 1899.0, 1190.0, 878.0, 866.0, 632.0, 758.0, 1455.0, 1035.0, 1186.0, 1335.0, 1273.0, 1229.0, 762.0, 1140.0, 795.0, 512.0, 510.0, 1038.0, 492.0, 946.0, 758.0, 935.0, 897.0, 785.0, 588.0, 413.0, 720.0, 776.0, 1334.7581556945127, 1272.8613636606133, 1228.794698259433, 1139.6871584097685, 1037.6096030394763, 934.8105026540644, 896.7154235528036, 776.33998613849, 751.8183361502067, 749.2109762627082, 745.8068724553053, 599.5235631892382, 727.8918455623015, 569.453273841632, 565.9112071112669, 545.626155149287, 554.4092585913914, 507.7700188260238, 498.4626133977435, 770.5540119606445, 477.430074674446, 463.8228248138425, 443.2554687666869, 420.8288023791666, 410.14868194700676, 417.9614354445469, 663.2327399461545, 404.48196476356344, 420.03449719779945, 388.89646916008815, 617.3856882155118, 525.3362793088818, 842.7753509881136, 877.0053778991139, 1488.2521448319992, 528.5906820891544, 938.7769098899043, 594.4247772923947, 767.2274653985899, 559.2599363412294, 612.0690774084435, 540.1690622827455, 4509.632528349073, 866.2574182831289, 758.0958533060708, 511.9582490160328, 509.4238638029616, 491.7590045557355, 412.85545952269047, 254.01371293911077, 216.46929430613642, 205.08510241421243, 165.45410472651582, 139.65965667059845, 122.90388667348712, 114.10682879530404, 116.07705652888075, 108.26536928707223, 99.25958549417517, 98.26367342532893, 93.69907355156762, 88.10727041803526, 87.31215910532325, 77.763606045491, 100.48173932734599, 77.31288520535257, 74.37532316390286, 79.28239814791903, 82.5250371563781, 73.28033273337256, 136.1789853160048, 70.65242093345418, 296.81528759788273, 195.4724541138875, 1819.7773003470718, 180.14371232086782, 142.82931759882572, 249.75577922790592, 527.5622339260318, 351.85261313194553, 868.3612078398457, 243.69696079508867, 191.22944079755698, 1076.69055927722, 318.94877041137624, 716.7488991723301, 563.7123381881413, 254.8356532037224, 320.30257070536845, 550.7667651410712, 504.32489172170597, 368.7466362019342, 584.4085220140947, 483.3688848333829, 458.7310796675602, 622.6130050368721, 623.8642640496257, 392.7116495341401, 512.8835633281086, 423.2633162917871, 524.4852737581447, 378.11486761506205, 370.53555684877296, 324.68161638464153, 1501.5154551316066, 1190.2183688659127, 877.9147323529348, 632.2881321070062, 245.69752440058318, 220.26349772458394, 200.5193213749022, 189.4946320060925, 177.3401770127727, 174.2711731753646, 170.70093974578074, 164.67089894089742, 145.030003334517, 139.15385158098232, 135.6571271139966, 124.71720642871932, 151.85237145495364, 124.45970191073856, 112.36634322316536, 102.17440830997684, 102.23729910469147, 100.1021547645555, 95.71713036477159, 82.87181571449118, 71.72978257355017, 70.83449064228577, 135.85746832536802, 68.06432500528064, 68.36834211944117, 74.73212068090153, 286.1363983807978, 228.79328955557898, 134.8181616810145, 224.85882135483143, 464.9839647224775, 582.539467956262, 422.8608931117158, 180.96584434508995, 227.79008654160344, 168.4540536003697, 197.18759691427456, 179.4000271992128, 225.76123545474624, 268.43660056137566, 250.51476959917025, 170.606826702596, 194.0776266603211, 189.30324464382076, 209.3553106706433, 185.66645705862373, 196.27008307299124, 183.01569002308636, 176.54595293167804], \"Total\": [4510.0, 1502.0, 1899.0, 1190.0, 878.0, 866.0, 632.0, 758.0, 1455.0, 1035.0, 1186.0, 1335.0, 1273.0, 1229.0, 762.0, 1140.0, 795.0, 512.0, 510.0, 1038.0, 492.0, 946.0, 758.0, 935.0, 897.0, 785.0, 588.0, 413.0, 720.0, 776.0, 1335.3610696343444, 1273.461942668823, 1229.3999997067995, 1140.3070449766099, 1038.2076947193202, 935.4078789186088, 897.3112263554362, 776.9517020092367, 752.4140935555546, 749.8065227113209, 746.4025551686223, 600.1455121672786, 728.6481054760723, 570.0485362931564, 566.506404495856, 546.2258656180463, 555.0593055958349, 508.3763737660453, 499.0590358911334, 771.5140414082448, 478.04090419239526, 464.41933610462536, 443.8506645119921, 421.4376755869017, 410.7456564780148, 418.5709138927511, 664.2045560218198, 405.081163218088, 420.6664168324126, 389.4918232938248, 619.2582535460365, 526.1975728778255, 854.27532779329, 985.7574065843611, 1960.4325099012694, 562.1135111955386, 1447.7862420135052, 702.2101202566585, 1501.068049827378, 702.3840003673249, 1275.327759656761, 844.6787634836322, 4510.310291530721, 866.9273451233331, 758.7164567738434, 512.5845879443069, 510.0581501300291, 492.3784916453938, 413.48776506932813, 254.63006532217526, 217.09963831130582, 205.7063447100457, 166.07987662895445, 140.30158778467475, 123.52185405002741, 114.72967916971662, 116.71189024604162, 108.88403235050382, 99.87879305498986, 98.89286080827137, 94.31843895327793, 88.72859696024723, 87.94852532882165, 78.37943503326177, 101.28430327473662, 77.9556504356437, 74.99607459865445, 79.95033093622018, 83.23824028572389, 73.92104875693738, 137.4321510296637, 71.31372094542118, 300.3841492595715, 198.1666042898447, 1899.8325268960764, 183.52346216798824, 145.82519607741878, 264.38134078066184, 588.1392486641741, 391.4704695986524, 1035.7165568763066, 266.0703775699068, 208.19060022113064, 1455.0985530222022, 372.4126972754376, 946.7080580439592, 758.1158354231451, 297.0886684925319, 393.56720295079634, 785.1999441543114, 720.8260899196729, 486.6963379303258, 893.0008697793342, 728.8665444763842, 735.0912153935498, 1275.327759656761, 1406.6149569087238, 655.0448162394598, 1186.9939114512154, 899.286273785582, 1501.068049827378, 753.0459668942378, 795.0925033169323, 564.284197139598, 1502.1523351322185, 1190.8896400804356, 878.5888336132645, 632.9498726424619, 246.33079635571258, 220.93323257702968, 201.15241374040207, 190.1610359209879, 178.01119162932514, 174.94278682679115, 171.3606807965273, 165.33493255799365, 145.66506039861312, 139.85379305644437, 136.34433690446446, 125.34901377060612, 152.65300706294738, 125.12048792442027, 113.00591826564633, 102.8041914076527, 102.8756537484919, 100.75234949321406, 96.37304916530738, 83.50279175741034, 72.35942431367317, 71.47223485537707, 137.1198109753278, 68.6995230797272, 69.00970321255697, 75.437796083303, 323.67882065091914, 261.35210697607795, 156.00665633722218, 294.03802095209926, 762.6447870916983, 1186.9939114512154, 795.0925033169323, 268.0390058750359, 402.81916414427667, 243.58608708625695, 358.4507508512095, 336.4383585824895, 735.0912153935498, 1406.6149569087238, 1455.0985530222022, 344.65620588179655, 758.1158354231451, 728.8665444763842, 1501.068049827378, 753.0459668942378, 1447.7862420135052, 720.8260899196729, 509.2870278668987], \"Category\": [\"Default\", \"Default\", \"Default\", \"Default\", \"Default\", \"Default\", \"Default\", \"Default\", \"Default\", \"Default\", \"Default\", \"Default\", \"Default\", \"Default\", \"Default\", \"Default\", \"Default\", \"Default\", \"Default\", \"Default\", \"Default\", \"Default\", \"Default\", \"Default\", \"Default\", \"Default\", \"Default\", \"Default\", \"Default\", \"Default\", \"Topic1\", \"Topic1\", \"Topic1\", \"Topic1\", \"Topic1\", \"Topic1\", \"Topic1\", \"Topic1\", \"Topic1\", \"Topic1\", \"Topic1\", \"Topic1\", \"Topic1\", \"Topic1\", \"Topic1\", \"Topic1\", \"Topic1\", \"Topic1\", \"Topic1\", \"Topic1\", \"Topic1\", \"Topic1\", \"Topic1\", \"Topic1\", \"Topic1\", \"Topic1\", \"Topic1\", \"Topic1\", \"Topic1\", \"Topic1\", \"Topic1\", \"Topic1\", \"Topic1\", \"Topic1\", \"Topic1\", \"Topic1\", \"Topic1\", \"Topic1\", \"Topic1\", \"Topic1\", \"Topic1\", \"Topic1\", \"Topic2\", \"Topic2\", \"Topic2\", \"Topic2\", \"Topic2\", \"Topic2\", \"Topic2\", \"Topic2\", \"Topic2\", \"Topic2\", \"Topic2\", \"Topic2\", \"Topic2\", \"Topic2\", \"Topic2\", \"Topic2\", \"Topic2\", \"Topic2\", \"Topic2\", \"Topic2\", \"Topic2\", \"Topic2\", \"Topic2\", \"Topic2\", \"Topic2\", \"Topic2\", \"Topic2\", \"Topic2\", \"Topic2\", \"Topic2\", \"Topic2\", \"Topic2\", \"Topic2\", \"Topic2\", \"Topic2\", \"Topic2\", \"Topic2\", \"Topic2\", \"Topic2\", \"Topic2\", \"Topic2\", \"Topic2\", \"Topic2\", \"Topic2\", \"Topic2\", \"Topic2\", \"Topic2\", \"Topic2\", \"Topic2\", \"Topic2\", \"Topic2\", \"Topic2\", \"Topic2\", \"Topic2\", \"Topic2\", \"Topic2\", \"Topic2\", \"Topic2\", \"Topic2\", \"Topic2\", \"Topic2\", \"Topic2\", \"Topic3\", \"Topic3\", \"Topic3\", \"Topic3\", \"Topic3\", \"Topic3\", \"Topic3\", \"Topic3\", \"Topic3\", \"Topic3\", \"Topic3\", \"Topic3\", \"Topic3\", \"Topic3\", \"Topic3\", \"Topic3\", \"Topic3\", \"Topic3\", \"Topic3\", \"Topic3\", \"Topic3\", \"Topic3\", \"Topic3\", \"Topic3\", \"Topic3\", \"Topic3\", \"Topic3\", \"Topic3\", \"Topic3\", \"Topic3\", \"Topic3\", \"Topic3\", \"Topic3\", \"Topic3\", \"Topic3\", \"Topic3\", \"Topic3\", \"Topic3\", \"Topic3\", \"Topic3\", \"Topic3\", \"Topic3\", \"Topic3\", \"Topic3\", \"Topic3\", \"Topic3\", \"Topic3\", \"Topic3\", \"Topic3\", \"Topic3\", \"Topic3\", \"Topic3\", \"Topic3\"], \"logprob\": [30.0, 29.0, 28.0, 27.0, 26.0, 25.0, 24.0, 23.0, 22.0, 21.0, 20.0, 19.0, 18.0, 17.0, 16.0, 15.0, 14.0, 13.0, 12.0, 11.0, 10.0, 9.0, 8.0, 7.0, 6.0, 5.0, 4.0, 3.0, 2.0, 1.0, -4.4571, -4.5046, -4.5398, -4.6151, -4.7089, -4.8132, -4.8548, -4.999, -5.0311, -5.0346, -5.0391, -5.2574, -5.0634, -5.3089, -5.3151, -5.3516, -5.3357, -5.4235, -5.442, -5.0065, -5.4852, -5.5141, -5.5594, -5.6113, -5.6371, -5.6182, -5.1564, -5.651, -5.6132, -5.6903, -5.2281, -5.3895, -4.9169, -4.8771, -4.3482, -5.3834, -4.809, -5.266, -5.0108, -5.327, -5.2367, -5.3617, -2.5816, -4.2314, -4.3648, -4.7574, -4.7623, -4.7976, -4.9725, -5.4582, -5.6182, -5.6722, -5.8869, -6.0564, -6.1842, -6.2585, -6.2414, -6.311, -6.3979, -6.408, -6.4555, -6.5171, -6.5261, -6.6419, -6.3856, -6.6477, -6.6865, -6.6226, -6.5825, -6.7013, -6.0816, -6.7378, -5.3025, -5.7202, -3.4891, -5.8019, -6.034, -5.4751, -4.7273, -5.1324, -4.229, -5.4997, -5.7421, -4.014, -5.2306, -4.4209, -4.6611, -5.455, -5.2263, -4.6843, -4.7724, -5.0855, -4.625, -4.8148, -4.8671, -4.5617, -4.5597, -5.0225, -4.7556, -4.9476, -4.7332, -5.0604, -5.0807, -5.2128, -3.2808, -3.5131, -3.8174, -4.1456, -5.0909, -5.2002, -5.2941, -5.3506, -5.4169, -5.4344, -5.4551, -5.491, -5.618, -5.6594, -5.6849, -5.7689, -5.5721, -5.771, -5.8732, -5.9683, -5.9677, -5.9888, -6.0336, -6.1777, -6.3221, -6.3346, -5.6834, -6.3745, -6.3701, -6.2811, -4.9385, -5.1622, -5.6911, -5.1795, -4.453, -4.2276, -4.5479, -5.3967, -5.1666, -5.4683, -5.3108, -5.4054, -5.1755, -5.0024, -5.0715, -5.4556, -5.3267, -5.3516, -5.251, -5.371, -5.3155, -5.3854, -5.4214], \"loglift\": [30.0, 29.0, 28.0, 27.0, 26.0, 25.0, 24.0, 23.0, 22.0, 21.0, 20.0, 19.0, 18.0, 17.0, 16.0, 15.0, 14.0, 13.0, 12.0, 11.0, 10.0, 9.0, 8.0, 7.0, 6.0, 5.0, 4.0, 3.0, 2.0, 1.0, 0.6227, 0.6227, 0.6227, 0.6226, 0.6226, 0.6225, 0.6225, 0.6224, 0.6224, 0.6224, 0.6224, 0.6221, 0.6221, 0.6221, 0.6221, 0.6221, 0.622, 0.622, 0.622, 0.6219, 0.6219, 0.6219, 0.6218, 0.6217, 0.6217, 0.6217, 0.6217, 0.6217, 0.6217, 0.6216, 0.6202, 0.6215, 0.6096, 0.5063, 0.3476, 0.5617, 0.19, 0.4565, -0.048, 0.3953, -0.1109, 0.1761, 1.281, 1.2804, 1.2803, 1.2799, 1.2799, 1.2799, 1.2796, 1.2787, 1.2782, 1.2781, 1.2774, 1.2766, 1.2761, 1.2757, 1.2757, 1.2754, 1.2749, 1.2748, 1.2746, 1.2741, 1.2739, 1.2733, 1.2732, 1.2729, 1.2728, 1.2728, 1.2725, 1.2724, 1.272, 1.2718, 1.2692, 1.2675, 1.2381, 1.2626, 1.2604, 1.2242, 1.1725, 1.1744, 1.1049, 1.1933, 1.1962, 0.98, 1.1262, 1.0029, 0.9849, 1.1277, 1.0752, 0.9265, 0.924, 1.0036, 0.8572, 0.8704, 0.8096, 0.5641, 0.4681, 0.7695, 0.442, 0.5275, 0.2296, 0.5922, 0.5176, 0.7284, 1.6813, 1.6812, 1.681, 1.6807, 1.6792, 1.6787, 1.6786, 1.6783, 1.678, 1.6779, 1.6779, 1.6777, 1.6774, 1.6768, 1.6767, 1.6767, 1.6765, 1.6765, 1.6761, 1.6756, 1.6755, 1.6753, 1.6749, 1.6742, 1.673, 1.6728, 1.6725, 1.6725, 1.6724, 1.6724, 1.5585, 1.5487, 1.5358, 1.4135, 1.187, 0.97, 1.0504, 1.2889, 1.1117, 1.313, 1.0841, 1.053, 0.5013, 0.0254, -0.0775, 0.9786, 0.3192, 0.3336, -0.2881, 0.2816, -0.3165, 0.3109, 0.6223]}, \"token.table\": {\"Topic\": [1, 2, 3, 3, 3, 1, 2, 3, 3, 1, 2, 3, 1, 2, 3, 1, 2, 3, 1, 2, 3, 2, 3, 1, 2, 3, 2, 3, 1, 1, 2, 3, 1, 2, 3, 1, 1, 2, 2, 2, 2, 1, 1, 1, 2, 3, 1, 1, 1, 1, 2, 3, 2, 3, 3, 1, 2, 1, 3, 2, 3, 1, 2, 3, 2, 1, 3, 1, 3, 3, 2, 3, 1, 2, 3, 2, 3, 2, 1, 3, 1, 2, 3, 1, 2, 2, 3, 2, 3, 3, 1, 2, 3, 1, 2, 2, 3, 1, 2, 3, 3, 3, 2, 1, 3, 1, 3, 2, 3, 3, 3, 2, 3, 1, 2, 3, 1, 2, 3, 1, 1, 3, 1, 2, 3, 2, 3, 2, 2, 1, 1, 1, 2, 3, 1, 2, 3, 1, 2, 1, 3, 3, 2, 1, 2, 3, 2, 3, 2, 3, 2, 3, 2, 2, 1, 2, 3, 3, 1, 2, 3, 3, 2, 1, 2, 3, 1, 2, 3, 2, 3, 1, 2, 3, 1, 2, 3, 2, 1, 2, 1, 1, 2, 3, 2, 1, 2, 3, 2, 3, 1, 2, 3, 3, 2, 3, 2, 1, 3, 1, 3, 2, 2, 1, 1, 2, 2, 1, 1, 2, 3, 1, 2, 3, 3, 1, 2, 3, 2, 2, 2, 1, 2, 3, 3, 3, 1, 3, 1], \"Freq\": [0.47987663984097106, 0.4885018735636029, 0.032148598420718655, 0.9939787431434505, 0.993392750956611, 0.23423229458595177, 0.7581729535282122, 0.008218677003015852, 0.9954343176270742, 0.6392962903115107, 0.2391441678572688, 0.12075596594772979, 0.1305780100390223, 0.19400161491511886, 0.6752748519160868, 0.36541627648379527, 0.44361820335775926, 0.19052833092929403, 0.25098069481666085, 0.5019613896333217, 0.24699687426401545, 0.8130758803090773, 0.18548293519550824, 0.07750671600962221, 0.43218418818408905, 0.49115668949575814, 0.9174285476727981, 0.08165594403370455, 0.9978779346430581, 0.030604997100402577, 0.897746581611809, 0.07311193751762837, 0.8459006540419731, 0.05981115735650315, 0.09398896156021924, 0.9973309960663218, 0.009987211400451109, 0.9887339286446599, 0.9988595288308387, 0.9936400138569443, 0.9975255658777841, 0.9987750821488961, 0.999799948776746, 0.9977241003388218, 0.001900426857788232, 0.9978951951238128, 0.9995864977617075, 0.999653156735038, 0.9997575385230273, 0.8896712255389444, 0.08014142168480799, 0.02941900289695483, 0.9840204947690725, 0.01009251789506741, 0.9853686776561409, 0.9997296089854983, 0.9951589975980211, 0.11431084655336078, 0.883591949034086, 0.0072928922005291545, 0.9918333392719649, 0.07683162360021649, 0.6626727535518672, 0.25930672965073065, 0.9873198192295117, 0.9981846272352373, 0.9938951026083377, 0.9992596552761548, 0.9898176428544433, 0.9950327919675661, 0.9895792140417379, 0.007276317750306896, 0.3858615550077168, 0.47037301950508414, 0.14344709105474196, 0.9992312993930157, 0.9974745052689227, 0.9918809734410087, 0.9410910598375215, 0.058707003732775445, 0.6485764077258311, 0.2161921359086104, 0.1353791010801522, 0.998186468293692, 0.001505560284002552, 0.3894342491116897, 0.6097202890132516, 0.917050602282443, 0.08268489036972845, 0.9993297961563626, 0.0025154305840597003, 0.46661237334307437, 0.5320135685286266, 0.9981606192694139, 0.9934978478375978, 0.9949348680639946, 0.9941965949957027, 0.18589007650241102, 0.6539747269723375, 0.15901440279121906, 0.9910985346512411, 0.9943195053071116, 0.9912014049418276, 0.4491551478625024, 0.5495873548379687, 0.9993337238460281, 0.001296152689813266, 0.9877411011221997, 0.9984992924660901, 0.9910447286211262, 0.9938944594229582, 0.23466353016721112, 0.7652071635887319, 0.7590161826458072, 0.15914855442573375, 0.08161464329524808, 0.9994606728422422, 0.8565765945516798, 0.14231523357755183, 0.9990970744066288, 0.999563956079694, 0.9979742178327852, 0.9994496467316318, 0.7439496362520925, 0.2558975699164999, 0.30789935869137525, 0.6896945634686805, 0.9979254323653894, 0.9988203639610803, 0.9980915452003859, 0.9991105370737926, 0.9996372544374158, 0.8991738262170356, 0.09962437279109201, 0.9978225624977558, 0.9966237889768756, 0.9921774453294048, 0.2980132662286756, 0.7017320927008557, 0.9868012952891714, 0.012876410733310658, 0.9992422972333866, 0.9989303081411036, 0.30532262074552086, 0.5999589497649486, 0.09465001243111147, 0.8583296067598422, 0.1413719352310328, 0.46665309110853365, 0.5320439701173728, 0.9806261458690658, 0.02057257648676362, 0.9965662473316449, 0.9957752087349979, 0.5109695060714966, 0.34908477337870175, 0.13923419396211575, 0.9957759520098258, 0.07068705470622852, 0.5831682013263854, 0.3475446856389569, 0.9961291131852901, 0.999055698914335, 0.7958609531362623, 0.14664343143655637, 0.056948905412254905, 0.9989243589020745, 0.9909714331148494, 0.9946108848275945, 0.8380671277650178, 0.16124102573359214, 0.9997307348244822, 0.9808010260575672, 0.016346683767626123, 0.08796655026159383, 0.7401560518104419, 0.17249690715359414, 0.9939004479788573, 0.9963532927771166, 0.003229670316943652, 0.9996746382732269, 0.09574758683242075, 0.40910332555670686, 0.496146586313453, 0.9881134833953558, 0.10034772514378323, 0.7573612518746586, 0.14259939888853407, 0.13460964097971975, 0.8653476920124842, 0.045780806856862574, 0.6991977774502648, 0.2538753834789652, 0.9925326853716228, 0.9579791767085356, 0.04210897480037519, 0.9875401016026448, 0.12244018374387554, 0.8762125649171093, 0.9986360402173158, 0.9972156640079767, 0.995600833314233, 0.9978504321338287, 0.9987372692713661, 0.9980834443203384, 0.9867183102051008, 0.9917884764866319, 0.9989614701953445, 0.2358378360717071, 0.19860028300775337, 0.566010806572097, 0.33316545271511616, 0.5759509155979402, 0.09037998983229215, 0.9986571051585653, 0.06937914497141127, 0.6244123047427015, 0.3074448385007637, 0.9999312039503572, 0.9892149945064422, 0.9971378505251179, 0.05295381269593754, 0.9456037981417418, 0.9998985887591719, 0.9914882315048741, 0.9992529617770665, 0.999106092196245, 0.9957222784174955, 0.9984158069060262], \"Term\": [\"\\uac00\\ub2a5\", \"\\uac00\\ub2a5\", \"\\uac00\\ub2a5\", \"\\uac00\\uc124\", \"\\uac00\\uc5ed\", \"\\uac70\\ub9ac\", \"\\uac70\\ub9ac\", \"\\uac70\\ub9ac\", \"\\uac80\\uc815\", \"\\uacb0\\uacfc\", \"\\uacb0\\uacfc\", \"\\uacb0\\uacfc\", \"\\uacb0\\ud569\", \"\\uacb0\\ud569\", \"\\uacb0\\ud569\", \"\\uacbd\\uc6b0\", \"\\uacbd\\uc6b0\", \"\\uacbd\\uc6b0\", \"\\uacc4\\uc0b0\", \"\\uacc4\\uc0b0\", \"\\uacc4\\uc0b0\", \"\\uace1\\uc120\", \"\\uace1\\uc120\", \"\\uacf5\\uac04\", \"\\uacf5\\uac04\", \"\\uacf5\\uac04\", \"\\uacf5\\uc2dd\", \"\\uacf5\\uc2dd\", \"\\uad00\\ub9ac\", \"\\uad6c\\uac04\", \"\\uad6c\\uac04\", \"\\uad6c\\uac04\", \"\\uad6c\\uc131\", \"\\uad6c\\uc131\", \"\\uad6c\\uc131\", \"\\uad6c\\ud604\", \"\\uadf8\\ub798\\ud504\", \"\\uadf8\\ub798\\ud504\", \"\\uadf9\\ud55c\", \"\\uadfc\\ubc29\", \"\\uae09\\uc218\", \"\\uae30\\ubc18\", \"\\uae30\\ubc95\", \"\\uae30\\uc220\", \"\\uae30\\uc220\", \"\\uae30\\uc800\", \"\\uae30\\uc874\", \"\\ub124\\ud2b8\\uc6cc\\ud06c\", \"\\ub178\\ub4dc\", \"\\ub17c\\ubb38\", \"\\ub17c\\ubb38\", \"\\ub17c\\ubb38\", \"\\ub2e4\\ud56d\\uc2dd\", \"\\ub2e4\\ud56d\\uc2dd\", \"\\ub300\\uac01\", \"\\ub370\\uc774\\ud130\", \"\\ub3c4\\ud568\\uc218\", \"\\ub3c5\\ub9bd\", \"\\ub3c5\\ub9bd\", \"\\ub3d9\\ud615\", \"\\ub3d9\\ud615\", \"\\ub9cc\\uc871\", \"\\ub9cc\\uc871\", \"\\ub9cc\\uc871\", \"\\ub9e4\\uac1c\", \"\\uba54\\uc2dc\\uc9c0\", \"\\uba85\\uc81c\", \"\\ubaa8\\ub378\", \"\\ubaa8\\uc218\", \"\\ubaa8\\uc9d1\\ub2e8\", \"\\ubb34\\ud55c\", \"\\ubb34\\ud55c\", \"\\ubb38\\uc81c\", \"\\ubb38\\uc81c\", \"\\ubb38\\uc81c\", \"\\ubbf8\\ubd84\", \"\\ubc00\\ub3c4\", \"\\ubc1c\\uc0b0\", \"\\ubc1c\\uc0dd\", \"\\ubc1c\\uc0dd\", \"\\ubc29\\ubc95\", \"\\ubc29\\ubc95\", \"\\ubc29\\ubc95\", \"\\ubc29\\uc2dd\", \"\\ubc29\\uc2dd\", \"\\ubc29\\uc815\\uc2dd\", \"\\ubc29\\uc815\\uc2dd\", \"\\ubc95\\uce59\", \"\\ubc95\\uce59\", \"\\ubca1\\ud130\", \"\\ubcc0\\uc218\", \"\\ubcc0\\uc218\", \"\\ubcc0\\uc218\", \"\\ubcf4\\uc548\", \"\\ubcf5\\uc18c\", \"\\ubcf5\\uc18c\\uc218\", \"\\ubcf5\\ud569\\uccb4\", \"\\ubd80\\ubd84\", \"\\ubd80\\ubd84\", \"\\ubd80\\ubd84\", \"\\ubd80\\ubd84\\uad70\", \"\\ubd80\\ud53c\", \"\\ubd84\\ubaa8\", \"\\ubd84\\uc0b0\", \"\\ubd84\\uc0b0\", \"\\ubd84\\uc11d\", \"\\ubd84\\uc11d\", \"\\ubd84\\uc218\", \"\\ubd84\\ud3ec\", \"\\uc0ac\\uac01\", \"\\uc0ac\\uac74\", \"\\uc0ac\\uc0c1\", \"\\uc0ac\\uc0c1\", \"\\uc0ac\\uc6a9\", \"\\uc0ac\\uc6a9\", \"\\uc0ac\\uc6a9\", \"\\uc0ac\\uc6a9\\uc790\", \"\\uc0bc\\uac01\", \"\\uc0bc\\uac01\", \"\\uc11c\\ubc84\", \"\\uc11c\\ube44\\uc2a4\", \"\\uc120\\ud615\", \"\\uc131\\ub2a5\", \"\\uc131\\ub9bd\", \"\\uc131\\ub9bd\", \"\\uc131\\ubd84\", \"\\uc131\\ubd84\", \"\\uc218\\ub834\", \"\\uc218\\uc5f4\", \"\\uc218\\ud589\", \"\\uc2dc\\uac04\", \"\\uc2dc\\uc2a4\\ud15c\", \"\\uc2e4\\uc218\", \"\\uc2e4\\uc218\", \"\\uc54c\\uace0\\ub9ac\\uc998\", \"\\uc5ed\\ud568\\uc218\", \"\\uc5ed\\ud589\\ub82c\", \"\\uc5f0\\uacb0\", \"\\uc5f0\\uacb0\", \"\\uc5f0\\uad6c\", \"\\uc5f0\\uad6c\", \"\\uc5f0\\ub9bd\", \"\\uc5f0\\uc18d\", \"\\uc601\\uc5ed\", \"\\uc601\\uc5ed\", \"\\uc601\\uc5ed\", \"\\uc608\\uc81c\", \"\\uc608\\uc81c\", \"\\uc6d0\\uc18c\", \"\\uc6d0\\uc18c\", \"\\uc704\\uc0c1\", \"\\uc704\\uc0c1\", \"\\uc704\\uc0c1\\uacf5\\uac04\", \"\\uc720\\uacc4\", \"\\uc774\\uc6a9\", \"\\uc774\\uc6a9\", \"\\uc774\\uc6a9\", \"\\uc77c\\ucc28\", \"\\uc784\\uc758\", \"\\uc784\\uc758\", \"\\uc784\\uc758\", \"\\uc785\\uccb4\", \"\\uc801\\ubd84\", \"\\uc801\\uc6a9\", \"\\uc801\\uc6a9\", \"\\uc801\\uc6a9\", \"\\uc804\\uc1a1\", \"\\uc811\\uc120\", \"\\uc815\\uaddc\", \"\\uc815\\ub9ac\", \"\\uc815\\ub9ac\", \"\\uc815\\ubcf4\", \"\\uc815\\uc218\", \"\\uc815\\uc218\", \"\\uc815\\uc758\", \"\\uc815\\uc758\", \"\\uc815\\uc758\", \"\\uc815\\uc801\\ubd84\", \"\\uc81c\\uacf5\", \"\\uc81c\\uacf5\", \"\\uc81c\\uc548\", \"\\uc870\\uac74\", \"\\uc870\\uac74\", \"\\uc870\\uac74\", \"\\uc870\\ud654\", \"\\uc874\\uc7ac\", \"\\uc874\\uc7ac\", \"\\uc874\\uc7ac\", \"\\uc88c\\ud45c\", \"\\uc88c\\ud45c\", \"\\uc99d\\uba85\", \"\\uc99d\\uba85\", \"\\uc99d\\uba85\", \"\\uc9c1\\uad50\", \"\\uc9d1\\ud569\", \"\\uc9d1\\ud569\", \"\\ucc28\\uc218\", \"\\ucc28\\uc6d0\", \"\\ucc28\\uc6d0\", \"\\ucc98\\ub9ac\", \"\\uccb4\\uc704\", \"\\uce58\\uc5ed\", \"\\uce58\\ud658\", \"\\ud1b5\\uc2e0\", \"\\ud30c\\uc77c\", \"\\ud310\\uc815\\ubc95\", \"\\ud3b8\\ub3c4\", \"\\ud3c9\\uac00\", \"\\ud3c9\\uade0\", \"\\ud3c9\\uade0\", \"\\ud3c9\\uade0\", \"\\ud3ec\\ud568\", \"\\ud3ec\\ud568\", \"\\ud3ec\\ud568\", \"\\ud45c\\ubcf8\", \"\\ud45c\\ud604\", \"\\ud45c\\ud604\", \"\\ud45c\\ud604\", \"\\ud568\\uc218\", \"\\ud568\\uc218\\uac00\", \"\\ud569\\uc131\", \"\\ud574\\uc11d\", \"\\ud574\\uc11d\", \"\\ud589\\ub82c\", \"\\ud589\\ub82c\\uc2dd\", \"\\ud655\\ub960\", \"\\ud658\\uacbd\", \"\\ud68c\\uc804\", \"\\ud6a8\\uc728\"]}, \"R\": 30, \"lambda.step\": 0.01, \"plot.opts\": {\"xlab\": \"PC1\", \"ylab\": \"PC2\"}, \"topic.order\": [1, 2, 3]};\n",
              "\n",
              "function LDAvis_load_lib(url, callback){\n",
              "  var s = document.createElement('script');\n",
              "  s.src = url;\n",
              "  s.async = true;\n",
              "  s.onreadystatechange = s.onload = callback;\n",
              "  s.onerror = function(){console.warn(\"failed to load library \" + url);};\n",
              "  document.getElementsByTagName(\"head\")[0].appendChild(s);\n",
              "}\n",
              "\n",
              "if(typeof(LDAvis) !== \"undefined\"){\n",
              "   // already loaded: just create the visualization\n",
              "   !function(LDAvis){\n",
              "       new LDAvis(\"#\" + \"ldavis_el83831397722801881282897753609\", ldavis_el83831397722801881282897753609_data);\n",
              "   }(LDAvis);\n",
              "}else if(typeof define === \"function\" && define.amd){\n",
              "   // require.js is available: use it to load d3/LDAvis\n",
              "   require.config({paths: {d3: \"https://d3js.org/d3.v5\"}});\n",
              "   require([\"d3\"], function(d3){\n",
              "      window.d3 = d3;\n",
              "      LDAvis_load_lib(\"https://cdn.jsdelivr.net/gh/bmabey/pyLDAvis@3.4.0/pyLDAvis/js/ldavis.v3.0.0.js\", function(){\n",
              "        new LDAvis(\"#\" + \"ldavis_el83831397722801881282897753609\", ldavis_el83831397722801881282897753609_data);\n",
              "      });\n",
              "    });\n",
              "}else{\n",
              "    // require.js not available: dynamically load d3 & LDAvis\n",
              "    LDAvis_load_lib(\"https://d3js.org/d3.v5.js\", function(){\n",
              "         LDAvis_load_lib(\"https://cdn.jsdelivr.net/gh/bmabey/pyLDAvis@3.4.0/pyLDAvis/js/ldavis.v3.0.0.js\", function(){\n",
              "                 new LDAvis(\"#\" + \"ldavis_el83831397722801881282897753609\", ldavis_el83831397722801881282897753609_data);\n",
              "            })\n",
              "         });\n",
              "}\n",
              "</script>"
            ]
          },
          "metadata": {},
          "execution_count": 25
        }
      ]
    },
    {
      "cell_type": "markdown",
      "source": [
        "\n",
        "### 6. 분석하기\n",
        "\n",
        "* 위 시각화 자료는 키워드 간 연관성을 기반으로 그룹화되었습니다.\n",
        "\n",
        "#### 토픽의 수와 퀄리티 확인\n",
        "\n",
        "* 각 토픽에 대한 키워드를 보고 합리적인 주제를 형성하고 있는지, 유용한 인사이트를 제공하는지 판단할 수 있습니다.\n",
        "\n",
        "#### 토픽 간 거리 확인\n",
        "\n",
        "* 토픽들 사이의 거리를 확인할 수 있습니다. 이 거리는 토픽들이 얼마나 서로 다른지를 나타내며, 서로 가까운 토픽은 유사한 주제를 다루고 있다고 볼 수 있습니다.\n",
        "\n",
        "#### 토픽 분포 확인\n",
        "\n",
        "* 각 문서에서 어떤 토픽이 가장 크게 기여하고 있는지 확인함으로써, 그 문서의 주제나 내용을 이해할 수 있습니다.\n",
        "\n",
        "#### 토픽 내의 주요 단어 분석\n",
        "\n",
        "* 각 주제에서 그룹화된 키워드들을 확인합니다.\n",
        "* 각 주제별로 \"어떤 키워드들로 묶였는지?\", \"몇 개의 그룹으로 묶어야 하는지?\", \"숨겨진 주제를 찾을 수도 있는지?\" 등의 질문을 던지며 파라미터를 수정하고, 목적에 맞게 데이터를 분석합니다.\n",
        "* 해당 코퍼스는 기술과학요약 데이터로, \"자연\"과 \"인공물\" 두 가지 field에서 추출한 데이터입니다.\n",
        "* 그렇다면 큰 토픽은 두 가지라고 볼 수 있습니다. 토픽을 모른다고 가정하고, 세 가지로 분류했을 때, 현재 그림에서 2번과 3번 토픽이 거리가 가깝고 나오는 키워드들이 서로 유사하다면(집합, 행렬, 벡터, 함수, 방정식, ...) 2번과 3번을 하나의 토픽으로도 묶일 수 없는지 보고, 파라미터를 수정해볼 수 있을 것 같습니다."
      ],
      "metadata": {
        "id": "lKrtORaepqAi"
      }
    }
  ]
}