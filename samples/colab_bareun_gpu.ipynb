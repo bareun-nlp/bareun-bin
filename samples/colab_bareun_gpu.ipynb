{
  "cells": [
    {
      "cell_type": "markdown",
      "metadata": {
        "id": "FOevKudsBkof"
      },
      "source": [
        "# 바른 형태소 분석기 활용"
      ]
    },
    {
      "cell_type": "markdown",
      "metadata": {
        "id": "rmnU9y_YhH2O"
      },
      "source": [
        "### 바른 설치\n"
      ]
    },
    {
      "cell_type": "markdown",
      "metadata": {
        "id": "_yVXwiDMYcIq"
      },
      "source": [
        "바른을 설치합니다.\n",
        "\n",
        "\n",
        "바른의 리눅스 설치본을 다운로드 받습니다."
      ]
    },
    {
      "cell_type": "code",
      "execution_count": null,
      "metadata": {
        "colab": {
          "base_uri": "https://localhost:8080/"
        },
        "id": "KIyzfCUKXrUq",
        "outputId": "b77fdaaa-0126-414d-dc32-5b60cba70c2f"
      },
      "outputs": [],
      "source": [
        "!curl -LJks -H \"uname:$(uname -a)\" https://bareun.ai/api/get -o bareun-linux.deb\n",
        "!ls"
      ]
    },
    {
      "cell_type": "markdown",
      "metadata": {
        "id": "hYuFFLRSYjRx"
      },
      "source": [
        "**바른을** 설치합니다."
      ]
    },
    {
      "cell_type": "code",
      "execution_count": 2,
      "metadata": {
        "colab": {
          "base_uri": "https://localhost:8080/"
        },
        "id": "ryCidTtdhB6M",
        "outputId": "b625216d-56be-4782-ed0d-b6baa15cc859"
      },
      "outputs": [
        {
          "name": "stdout",
          "output_type": "stream",
          "text": [
            "Linux dad0a4c130f4 5.10.147+ #1 SMP Sat Dec 10 16:00:40 UTC 2022 x86_64 x86_64 x86_64 GNU/Linux\n"
          ]
        }
      ],
      "source": [
        "!uname -a"
      ]
    },
    {
      "cell_type": "code",
      "execution_count": 3,
      "metadata": {
        "colab": {
          "base_uri": "https://localhost:8080/"
        },
        "id": "THrwSjtjXzXX",
        "outputId": "8026ac78-aeca-424f-9637-d028d90b33b3"
      },
      "outputs": [
        {
          "name": "stdout",
          "output_type": "stream",
          "text": [
            "Selecting previously unselected package bareun.\n",
            "(Reading database ... 128126 files and directories currently installed.)\n",
            "Preparing to unpack bareun-v2.0.0.linux-x86_64.deb ...\n",
            "Unpacking bareun (2.0.0) ...\n",
            "Setting up bareun (2.0.0) ...\n",
            "System has not been booted with systemd as init system (PID 1). Can't operate.\n",
            "Failed to connect to bus: Host is down\n",
            "System has not been booted with systemd as init system (PID 1). Can't operate.\n",
            "Failed to connect to bus: Host is down\n",
            "Created symlink /etc/systemd/system/multi-user.target.wants/bareun.service → /etc/systemd/system/bareun.service.\n"
          ]
        }
      ],
      "source": [
        "!dpkg -i bareun-linux.deb"
      ]
    },
    {
      "cell_type": "markdown",
      "metadata": {
        "id": "bmUdfez-1WlP"
      },
      "source": [
        "아래는 바른 모델이 GPU를 사용하기 위해서 다운받는 tensorflow 라이브러리입니다.\n",
        "\n",
        "상단의 메뉴탭의 **\"런타임 > 런타임 유형 변경 > 하드웨어 가속기 > GPU 선택 > 저장\"**을 설정하시면 모델의 추론 속도가 더 빨라집니다. 단, 무료버전의 경우 coloab의 일일 사용 제한을 초과하지 않아야 합니다.\n",
        "\n",
        "기본적으로 CPU를 사용해도 작동합니다."
      ]
    },
    {
      "cell_type": "code",
      "execution_count": 4,
      "metadata": {
        "colab": {
          "base_uri": "https://localhost:8080/"
        },
        "id": "uljnveLhoWKE",
        "outputId": "0137fbc2-97dd-4d7a-9af0-4c212e8728af"
      },
      "outputs": [
        {
          "name": "stdout",
          "output_type": "stream",
          "text": [
            "  % Total    % Received % Xferd  Average Speed   Time    Time     Time  Current\n",
            "                                 Dload  Upload   Total   Spent    Left  Speed\n",
            "100  392M  100  392M    0     0  36.4M      0  0:00:10  0:00:10 --:--:-- 39.3M\n"
          ]
        }
      ],
      "source": [
        "!curl -O https://storage.googleapis.com/tensorflow/libtensorflow/libtensorflow-gpu-linux-x86_64-2.9.1.tar.gz"
      ]
    },
    {
      "cell_type": "code",
      "execution_count": 5,
      "metadata": {
        "id": "fgdfC3QPqDWR"
      },
      "outputs": [],
      "source": [
        "!tar -C /opt/bareun -xzf libtensorflow-gpu-linux-x86_64-2.9.1.tar.gz"
      ]
    },
    {
      "cell_type": "markdown",
      "metadata": {
        "id": "rdToJ-xbZbez"
      },
      "source": [
        "# 바른을 시작합니다."
      ]
    },
    {
      "cell_type": "markdown",
      "metadata": {
        "id": "Hl1Wo5hU0ItN"
      },
      "source": [
        "아래 코드는 BAREUN_ROOT와 LD_LIBRARY_PATH를 설정하고, /opt/bareun/bin/bareun을 백그라운드로 실행하는 코드입니다.\n",
        "* %env BAREUN_ROOT=\"/opt/bareun\": 환경 변수 BAREUN_ROOT를 \"/opt/bareun\"으로 설정합니다.\n",
        "* %env LD_LIBRARY_PATH=\"/opt/bareun/lib\" : 환경변수 LD_LIBRARY_PATH를 \"/opt/bareun/lib\"으로 설정합니다.\n",
        "* !BAREUN_ROOT=\"/opt/bareun\" LD_LIBRARY_PATH=\"/opt/bareun/lib\" nohup /opt/bareun/bin/bareun& : bareun을 백그라운드로 실행시킵니다.\n"
      ]
    },
    {
      "cell_type": "code",
      "execution_count": 6,
      "metadata": {
        "colab": {
          "base_uri": "https://localhost:8080/"
        },
        "id": "K5a1u5bkZjQU",
        "outputId": "a2f20418-8c28-40e0-9b0f-a5a4dea85a5b"
      },
      "outputs": [
        {
          "name": "stdout",
          "output_type": "stream",
          "text": [
            "env: BAREUN_ROOT=\"/opt/bareun\"\n",
            "env: LD_LIBRARY_PATH=\"/opt/bareun/lib\"\n",
            "nohup: appending output to 'nohup.out'\n"
          ]
        }
      ],
      "source": [
        "%env BAREUN_ROOT=\"/opt/bareun\"\n",
        "%env LD_LIBRARY_PATH=\"/opt/bareun/lib\"\n",
        "!BAREUN_ROOT=\"/opt/bareun\" LD_LIBRARY_PATH=\"/opt/bareun/lib\" nohup /opt/bareun/bin/bareun&"
      ]
    },
    {
      "cell_type": "code",
      "execution_count": 7,
      "metadata": {
        "colab": {
          "base_uri": "https://localhost:8080/"
        },
        "id": "CR5RYYcfaGW1",
        "outputId": "d350c7b0-2b66-4fa5-f677-7aa41f6d3da3"
      },
      "outputs": [
        {
          "name": "stdout",
          "output_type": "stream",
          "text": [
            "root        1572       1  0 06:15 ?        00:00:00 /opt/bareun/bin/bareun\n",
            "root        1573     532  0 06:15 ?        00:00:00 /bin/bash -c ps -ef | grep bareun\n",
            "root        1575    1573  0 06:15 ?        00:00:00 grep bareun\n"
          ]
        }
      ],
      "source": [
        "!ps -ef | grep bareun"
      ]
    },
    {
      "cell_type": "markdown",
      "metadata": {
        "id": "tdzBGIAWhVbE"
      },
      "source": [
        "API키 발급"
      ]
    },
    {
      "cell_type": "markdown",
      "metadata": {
        "id": "FUTRxJwnYrNB"
      },
      "source": [
        "바른 홈페이지(https://bareun.ai/) 에 회원가입해서 API키를 받습니다.\n",
        "\n",
        "*   API키 복사\n",
        "*   API키를 등록합니다.\n"
      ]
    },
    {
      "cell_type": "code",
      "execution_count": null,
      "metadata": {
        "colab": {
          "base_uri": "https://localhost:8080/"
        },
        "id": "bKzcTrLAYv_i",
        "outputId": "156f6ded-972e-4404-90f3-b8b34b767c18"
      },
      "outputs": [],
      "source": [
        "!BAREUN_ROOT=\"/opt/bareun\" LD_LIBRARY_PATH=\"/opt/bareun/lib\" /opt/bareun/bin/bareun -reg YOUR-API-KEY"
      ]
    },
    {
      "cell_type": "markdown",
      "metadata": {
        "id": "BKu297OEcnd9"
      },
      "source": [
        "PIP 패키지 설치\n",
        "pip install bareunpy"
      ]
    },
    {
      "cell_type": "code",
      "execution_count": 9,
      "metadata": {
        "colab": {
          "base_uri": "https://localhost:8080/"
        },
        "id": "WwbzDxh1cray",
        "outputId": "47a5af75-9d66-46ac-f7c9-177e4584dafe"
      },
      "outputs": [
        {
          "name": "stdout",
          "output_type": "stream",
          "text": [
            "Looking in indexes: https://pypi.org/simple, https://us-python.pkg.dev/colab-wheels/public/simple/\n",
            "Collecting bareunpy\n",
            "  Downloading bareunpy-1.6.0-py3-none-any.whl (14 kB)\n",
            "Collecting bareun-apis<0.13.0,>=0.12.0\n",
            "  Downloading bareun_apis-0.12.0-py3-none-any.whl (23 kB)\n",
            "Requirement already satisfied: googleapis-common-protos<2.0.0,>=1.56.0 in /usr/local/lib/python3.8/dist-packages (from bareunpy) (1.58.0)\n",
            "Requirement already satisfied: protobuf<4.0.0,>=3.19.4 in /usr/local/lib/python3.8/dist-packages (from bareunpy) (3.19.6)\n",
            "Requirement already satisfied: grpcio<2.0.0,>=1.46.0 in /usr/local/lib/python3.8/dist-packages (from bareunpy) (1.51.1)\n",
            "Installing collected packages: bareun-apis, bareunpy\n",
            "Successfully installed bareun-apis-0.12.0 bareunpy-1.6.0\n"
          ]
        }
      ],
      "source": [
        "!pip install -U bareunpy"
      ]
    },
    {
      "cell_type": "markdown",
      "metadata": {
        "id": "Z5gb-QK1cxnI"
      },
      "source": [
        "바른 API를 사용합니다."
      ]
    },
    {
      "cell_type": "code",
      "execution_count": 10,
      "metadata": {
        "colab": {
          "base_uri": "https://localhost:8080/"
        },
        "id": "7qbEg5rWc0aL",
        "outputId": "fbe339cc-8334-45db-ee2f-bbfed3044b58"
      },
      "outputs": [
        {
          "name": "stdout",
          "output_type": "stream",
          "text": [
            "sentences {\n",
            "  text {\n",
            "    content: \"안녕하세요. 정말 좋은 날씨네요.\"\n",
            "    length: 18\n",
            "  }\n",
            "  tokens {\n",
            "    text {\n",
            "      content: \"안녕하세요.\"\n",
            "      length: 6\n",
            "    }\n",
            "    morphemes {\n",
            "      text {\n",
            "        content: \"안녕하\"\n",
            "        length: 3\n",
            "      }\n",
            "      tag: VA\n",
            "      out_of_vocab: IN_BUILTIN_DICT\n",
            "    }\n",
            "    morphemes {\n",
            "      text {\n",
            "        content: \"시\"\n",
            "        begin_offset: 3\n",
            "        length: 1\n",
            "      }\n",
            "      tag: EP\n",
            "      probability: 0.99986386\n",
            "    }\n",
            "    morphemes {\n",
            "      text {\n",
            "        content: \"어요\"\n",
            "        begin_offset: 3\n",
            "        length: 2\n",
            "      }\n",
            "      tag: EF\n",
            "      probability: 0.9903047\n",
            "    }\n",
            "    morphemes {\n",
            "      text {\n",
            "        content: \".\"\n",
            "        begin_offset: 5\n",
            "        length: 1\n",
            "      }\n",
            "      tag: SF\n",
            "      probability: 0.99277085\n",
            "    }\n",
            "    lemma: \"안녕하\"\n",
            "    tagged: \"안녕하/VA+시/EP+어요/EF+./SF\"\n",
            "  }\n",
            "  tokens {\n",
            "    text {\n",
            "      content: \"정말\"\n",
            "      begin_offset: 7\n",
            "      length: 2\n",
            "    }\n",
            "    morphemes {\n",
            "      text {\n",
            "        content: \"정말\"\n",
            "        begin_offset: 7\n",
            "        length: 2\n",
            "      }\n",
            "      tag: MAG\n",
            "      probability: 0.9925209\n",
            "    }\n",
            "    lemma: \"정말\"\n",
            "    tagged: \"정말/MAG\"\n",
            "  }\n",
            "  tokens {\n",
            "    text {\n",
            "      content: \"좋은\"\n",
            "      begin_offset: 10\n",
            "      length: 2\n",
            "    }\n",
            "    morphemes {\n",
            "      text {\n",
            "        content: \"좋\"\n",
            "        begin_offset: 10\n",
            "        length: 1\n",
            "      }\n",
            "      tag: VA\n",
            "      probability: 0.98677385\n",
            "    }\n",
            "    morphemes {\n",
            "      text {\n",
            "        content: \"은\"\n",
            "        begin_offset: 11\n",
            "        length: 1\n",
            "      }\n",
            "      tag: ETM\n",
            "      probability: 0.99996984\n",
            "    }\n",
            "    lemma: \"좋\"\n",
            "    tagged: \"좋/VA+은/ETM\"\n",
            "  }\n",
            "  tokens {\n",
            "    text {\n",
            "      content: \"날씨네요.\"\n",
            "      begin_offset: 13\n",
            "      length: 5\n",
            "    }\n",
            "    morphemes {\n",
            "      text {\n",
            "        content: \"날씨\"\n",
            "        begin_offset: 13\n",
            "        length: 2\n",
            "      }\n",
            "      tag: NNG\n",
            "      probability: 0.96757835\n",
            "    }\n",
            "    morphemes {\n",
            "      text {\n",
            "        content: \"이\"\n",
            "        begin_offset: 15\n",
            "        length: 1\n",
            "      }\n",
            "      tag: VCP\n",
            "      probability: 0.99990535\n",
            "    }\n",
            "    morphemes {\n",
            "      text {\n",
            "        content: \"네\"\n",
            "        begin_offset: 15\n",
            "        length: 1\n",
            "      }\n",
            "      tag: EF\n",
            "      probability: 0.99098045\n",
            "    }\n",
            "    morphemes {\n",
            "      text {\n",
            "        content: \"요\"\n",
            "        begin_offset: 16\n",
            "        length: 1\n",
            "      }\n",
            "      tag: JX\n",
            "      probability: 0.99870336\n",
            "    }\n",
            "    morphemes {\n",
            "      text {\n",
            "        content: \".\"\n",
            "        begin_offset: 17\n",
            "        length: 1\n",
            "      }\n",
            "      tag: SF\n",
            "      probability: 0.9929885\n",
            "    }\n",
            "    lemma: \"날씨\"\n",
            "    tagged: \"날씨/NNG+이/VCP+네/EF+요/JX+./SF\"\n",
            "  }\n",
            "  refined: \"안녕하세요. 정말 좋은 날씨네요.\"\n",
            "}\n",
            "language: \"ko_KR\"\n"
          ]
        }
      ],
      "source": [
        "import sys\n",
        "import bareunpy as brn\n",
        "import google.protobuf.text_format as tf\n",
        "API_KEY = \"YOUR-API-KEY\"\n",
        "t = brn.Tagger(API_KEY, \"localhost\", 5656)\n",
        "res = t.tags([\"안녕하세요. 정말 좋은 날씨네요.\"])\n",
        "m = res.msg()\n",
        "tf.PrintMessage(m, out=sys.stdout, as_utf8=True)"
      ]
    },
    {
      "cell_type": "code",
      "execution_count": 11,
      "metadata": {
        "colab": {
          "base_uri": "https://localhost:8080/"
        },
        "id": "dlvC4_nYhp38",
        "outputId": "bc46d3e0-1a22-4a39-f7eb-08779b5c490d"
      },
      "outputs": [
        {
          "name": "stdout",
          "output_type": "stream",
          "text": [
            "length of tokens in sentences[0] is 4\n",
            "length of morphemes of first token in sentences[0] is 4\n",
            "lemma of first token in sentences[0] is 안녕하\n",
            "first morph of first token in sentences[0] is text {\n",
            "  content: \"\\354\\225\\210\\353\\205\\225\\355\\225\\230\"\n",
            "  length: 3\n",
            "}\n",
            "tag: VA\n",
            "out_of_vocab: IN_BUILTIN_DICT\n",
            "\n",
            "tag of first morph of first token in sentences[0] is 38\n"
          ]
        }
      ],
      "source": [
        "print(f'length of tokens in sentences[0] is {len(m.sentences[0].tokens)}')\n",
        "print(f'length of morphemes of first token in sentences[0] is {len(m.sentences[0].tokens[0].morphemes)}')\n",
        "print(f'lemma of first token in sentences[0] is {m.sentences[0].tokens[0].lemma}')\n",
        "print(f'first morph of first token in sentences[0] is {m.sentences[0].tokens[0].morphemes[0]}')\n",
        "print(f'tag of first morph of first token in sentences[0] is {m.sentences[0].tokens[0].morphemes[0].tag}')"
      ]
    },
    {
      "cell_type": "code",
      "execution_count": 12,
      "metadata": {
        "colab": {
          "base_uri": "https://localhost:8080/"
        },
        "id": "aDAGb25LjRJs",
        "outputId": "8af214e7-ecbe-4cbc-d6d9-16b2dbc94fc1"
      },
      "outputs": [
        {
          "name": "stdout",
          "output_type": "stream",
          "text": [
            "{'sentences': [{'text': {'content': '안녕하세요. 정말 좋은 날씨네요.', 'length': 18, 'beginOffset': 0}, 'tokens': [{'text': {'content': '안녕하세요.', 'length': 6, 'beginOffset': 0}, 'morphemes': [{'text': {'content': '안녕하', 'length': 3, 'beginOffset': 0}, 'tag': 'VA', 'outOfVocab': 'IN_BUILTIN_DICT', 'probability': 0.0}, {'text': {'content': '시', 'beginOffset': 3, 'length': 1}, 'tag': 'EP', 'probability': 0.99986386, 'outOfVocab': 'IN_WORD_EMBEDDING'}, {'text': {'content': '어요', 'beginOffset': 3, 'length': 2}, 'tag': 'EF', 'probability': 0.9903047, 'outOfVocab': 'IN_WORD_EMBEDDING'}, {'text': {'content': '.', 'beginOffset': 5, 'length': 1}, 'tag': 'SF', 'probability': 0.99277085, 'outOfVocab': 'IN_WORD_EMBEDDING'}], 'lemma': '안녕하', 'tagged': '안녕하/VA+시/EP+어요/EF+./SF', 'modified': ''}, {'text': {'content': '정말', 'beginOffset': 7, 'length': 2}, 'morphemes': [{'text': {'content': '정말', 'beginOffset': 7, 'length': 2}, 'tag': 'MAG', 'probability': 0.9925209, 'outOfVocab': 'IN_WORD_EMBEDDING'}], 'lemma': '정말', 'tagged': '정말/MAG', 'modified': ''}, {'text': {'content': '좋은', 'beginOffset': 10, 'length': 2}, 'morphemes': [{'text': {'content': '좋', 'beginOffset': 10, 'length': 1}, 'tag': 'VA', 'probability': 0.98677385, 'outOfVocab': 'IN_WORD_EMBEDDING'}, {'text': {'content': '은', 'beginOffset': 11, 'length': 1}, 'tag': 'ETM', 'probability': 0.99996984, 'outOfVocab': 'IN_WORD_EMBEDDING'}], 'lemma': '좋', 'tagged': '좋/VA+은/ETM', 'modified': ''}, {'text': {'content': '날씨네요.', 'beginOffset': 13, 'length': 5}, 'morphemes': [{'text': {'content': '날씨', 'beginOffset': 13, 'length': 2}, 'tag': 'NNG', 'probability': 0.96757835, 'outOfVocab': 'IN_WORD_EMBEDDING'}, {'text': {'content': '이', 'beginOffset': 15, 'length': 1}, 'tag': 'VCP', 'probability': 0.99990535, 'outOfVocab': 'IN_WORD_EMBEDDING'}, {'text': {'content': '네', 'beginOffset': 15, 'length': 1}, 'tag': 'EF', 'probability': 0.99098045, 'outOfVocab': 'IN_WORD_EMBEDDING'}, {'text': {'content': '요', 'beginOffset': 16, 'length': 1}, 'tag': 'JX', 'probability': 0.99870336, 'outOfVocab': 'IN_WORD_EMBEDDING'}, {'text': {'content': '.', 'beginOffset': 17, 'length': 1}, 'tag': 'SF', 'probability': 0.9929885, 'outOfVocab': 'IN_WORD_EMBEDDING'}], 'lemma': '날씨', 'tagged': '날씨/NNG+이/VCP+네/EF+요/JX+./SF', 'modified': ''}], 'refined': '안녕하세요. 정말 좋은 날씨네요.'}], 'language': 'ko_KR'}\n"
          ]
        }
      ],
      "source": [
        "# get json object\n",
        "jo = res.as_json()\n",
        "print(jo)"
      ]
    },
    {
      "cell_type": "code",
      "execution_count": 13,
      "metadata": {
        "colab": {
          "base_uri": "https://localhost:8080/"
        },
        "id": "wfsrQNhsjW2l",
        "outputId": "6b063954-996a-4703-f9ed-1647e722b54b"
      },
      "outputs": [
        {
          "name": "stdout",
          "output_type": "stream",
          "text": [
            "[('안녕하', 'VA'), ('시', 'EP'), ('어요', 'EF'), ('.', 'SF'), ('정말', 'MAG'), ('좋', 'VA'), ('은', 'ETM'), ('날씨', 'NNG'), ('이', 'VCP'), ('네', 'EF'), ('요', 'JX'), ('.', 'SF')]\n",
            "['안녕하', '시', '어요', '.', '정말', '좋', '은', '날씨', '이', '네', '요', '.']\n",
            "['날씨']\n",
            "[]\n"
          ]
        }
      ],
      "source": [
        "# get tuple of pos tagging.\n",
        "pa = res.pos()\n",
        "print(pa)\n",
        "# another methods\n",
        "ma = res.morphs()\n",
        "print(ma)\n",
        "na = res.nouns()\n",
        "print(na)\n",
        "va = res.verbs()\n",
        "print(va)"
      ]
    },
    {
      "cell_type": "markdown",
      "metadata": {
        "id": "nrRTpOEMVjmG"
      },
      "source": [
        "###### mecab 설치"
      ]
    },
    {
      "cell_type": "markdown",
      "metadata": {
        "id": "Lg8hJYQ44zWP"
      },
      "source": [
        "아래는 curl 명령어를 사용하여 Github에서 다운받아 mecab을 설치하는 과정입니다.\n",
        "\n",
        "그리고 Mecab 라이브러리를 불러와 형태소 분석 기능을 테스트합니다."
      ]
    },
    {
      "cell_type": "code",
      "execution_count": null,
      "metadata": {
        "id": "_tQGmR8KV6py"
      },
      "outputs": [],
      "source": [
        "!curl -s https://raw.githubusercontent.com/teddylee777/machine-learning/master/99-Misc/01-Colab/mecab-colab.sh | bash"
      ]
    },
    {
      "cell_type": "code",
      "execution_count": 15,
      "metadata": {
        "id": "UEpe7J59V30q"
      },
      "outputs": [],
      "source": [
        "from konlpy.tag import Mecab\n",
        "\n",
        "mecab = Mecab()"
      ]
    },
    {
      "cell_type": "code",
      "execution_count": 16,
      "metadata": {
        "colab": {
          "base_uri": "https://localhost:8080/"
        },
        "id": "yAuZr_lyUy0q",
        "outputId": "a3736510-bdd5-4b43-85e0-6f52260d5399"
      },
      "outputs": [
        {
          "data": {
            "text/plain": [
              "[('안녕', 'NNG'), ('하', 'XSV'), ('세요', 'EP+EF')]"
            ]
          },
          "execution_count": 16,
          "metadata": {},
          "output_type": "execute_result"
        }
      ],
      "source": [
        "mecab.pos(\"안녕하세요\")"
      ]
    },
    {
      "cell_type": "markdown",
      "metadata": {
        "id": "vMYQ10loVhz-"
      },
      "source": [
        "### 형태소 분석 테스트"
      ]
    },
    {
      "cell_type": "markdown",
      "metadata": {
        "id": "d2ZdXXPe56xP"
      },
      "source": [
        "형태소 분석기 바른과 mecab의 분석 성능을 테스트하는 간단한 코드입니다.\n",
        "\n",
        "분석 성능 비교를 위해 바른에서 구축한 모호성 평가 데이터세트(https://github.com/bareun-nlp/korean-ambiguity-data) 를 다운받고 불러옵니다."
      ]
    },
    {
      "cell_type": "markdown",
      "metadata": {
        "id": "_6FirsmtWbyB"
      },
      "source": [
        "##### bareun"
      ]
    },
    {
      "cell_type": "code",
      "execution_count": 17,
      "metadata": {
        "id": "EjC29ge1Qpjt"
      },
      "outputs": [],
      "source": [
        "def dataload(path):\n",
        "  \"\"\"\n",
        "  json파일을 불러와서 정답, 문장으로 전처리합니다.\n",
        "  :param path: 평가 데이터의 path\n",
        "  :return: 평가 데이터세트\n",
        "  \"\"\"\n",
        "  import json\n",
        "  with open(path) as f:\n",
        "      sents = json.load(f)\n",
        "  ret = []\n",
        "  for idx, sent in enumerate(sents['sentences']):\n",
        "      final_answer = []\n",
        "      if '+' in sent['answer']:\n",
        "          tokens = sent['answer'].split('+')\n",
        "          temp = []\n",
        "          for i in range(len(tokens)):\n",
        "              form = tokens[i].split('/')[0]\n",
        "              tag = tokens[i].split('/')[1]\n",
        "              t = (form, tag)\n",
        "              temp.append(t)\n",
        "          final_answer.append(temp)\n",
        "          final_answer.append(sent['text'])\n",
        "      else:\n",
        "          tokens = sent['answer'].split('/')\n",
        "          form, tag = tokens[0], tokens[1]\n",
        "          temp = (form, tag)\n",
        "          final_answer.append(temp)\n",
        "          final_answer.append(sent['text'])\n",
        "      ret.append(final_answer)\n",
        "  return ret\n"
      ]
    },
    {
      "cell_type": "code",
      "execution_count": null,
      "metadata": {
        "id": "XNzEvm77lAb_"
      },
      "outputs": [],
      "source": [
        "!pip install -U gdown"
      ]
    },
    {
      "cell_type": "code",
      "execution_count": null,
      "metadata": {
        "id": "6eEvI5XVlyR8"
      },
      "outputs": [],
      "source": [
        "!gdown  https://drive.google.com/file/d/1TwJB5Bp12GJh54ip2cUFzfzOA7fluMN1/view?usp=share_link -O ambiguity_sentences.json --fuzzy"
      ]
    },
    {
      "cell_type": "code",
      "execution_count": 20,
      "metadata": {
        "id": "XsxX1e77Q3GN"
      },
      "outputs": [],
      "source": [
        "testset = dataload(\"./ambiguity_sentences.json\")"
      ]
    },
    {
      "cell_type": "code",
      "execution_count": 21,
      "metadata": {
        "colab": {
          "base_uri": "https://localhost:8080/"
        },
        "id": "XDF0L4EFRGbr",
        "outputId": "74f73616-8943-4483-9c39-126ac7501175"
      },
      "outputs": [
        {
          "name": "stdout",
          "output_type": "stream",
          "text": [
            "[[[('쿠키', 'NNG'), ('와', 'JC')], '밀가루, 계란, 우유 반죽과 한참을 씨름한 끝에 마침내 오븐에서 결혼 전 발레리나였던 아내의 모습을 본 뜬 쿠키와 곧 태어날 아기에게 먹일 젖병 모양의 쿠키가 나왔다.'], [[('쿠키', 'NNG'), ('와', 'JKB')], '뭐 케이크 빵 쿠키와 같은 베이커립니다.'], [[('퀄리티', 'NNG'), ('가', 'JKS')], '고려은단은 고가의 영국산 원료를 사용함에도 불구하고 원료의 대량 구매 및 최신 자동화 설비를 통한 원가 절감으로 가격 대비 퀄리티가 높다는 평가를 받고 있다.'], [[('퀄리티', 'NNG'), ('가', 'JKC')], '이 정도는 쫌 어느 정도 퀄리티가 되는 글이 나와야 책으로 낼 수 있다.'], [('퀸', 'NNG'), '대상 및 특별상 수상자는 12월 여성가족부가 주최하는 ‘아이디어 퀸 공모전’ 본선에 참가하게 된다.']]\n"
          ]
        }
      ],
      "source": [
        "print(testset[:5])"
      ]
    },
    {
      "cell_type": "markdown",
      "metadata": {
        "id": "y_65YoLV_9-P"
      },
      "source": [
        "바른 모델을 평가하는 함수입니다."
      ]
    },
    {
      "cell_type": "code",
      "execution_count": 22,
      "metadata": {
        "id": "aMml-1LHRNcO"
      },
      "outputs": [],
      "source": [
        "def bareun_evaluate(dataset):\n",
        "  from tqdm import tqdm\n",
        "  from google.protobuf.json_format import MessageToDict\n",
        "  acc, tot = 0, 0\n",
        "    \n",
        "  for index, (answer, exam) in enumerate(tqdm(dataset)):\n",
        "      correct = False\n",
        "      result = []\n",
        "      analyzed = MessageToDict(t.tags([exam]).msg())\n",
        "      for word in analyzed['sentences'][0]['tokens']:\n",
        "          for morph in word['morphemes']:\n",
        "              result.append((morph['text']['content'], morph['tag']))\n",
        "      answer_length = len(answer)\n",
        "      correct_cnt = 0\n",
        "      for idx, token in enumerate(result):\n",
        "          # 첫번째 토큰이 정답이면 정답의 길이만큼 다음 토큰을 계산한다.\n",
        "          i = 0\n",
        "          if isinstance(answer, list): # 정답이 두개 이상의 토큰이 경우(ex. [(쿠키, NNG), (와, JC)])\n",
        "              if (token[0] == answer[i][0]) and (token[1] == answer[i][1]):\n",
        "                  correct_cnt += 1\n",
        "                  while i <= answer_length:\n",
        "                      i += 1\n",
        "                      if i < answer_length:\n",
        "                          try:\n",
        "                              if (result[idx+i][0] == answer[i][0]) and (result[idx+i][1] == answer[i][1]):\n",
        "                                  correct_cnt +=1\n",
        "                                  if correct_cnt == answer_length:\n",
        "                                      correct = True\n",
        "                                      break\n",
        "                          except: # 정답이 결과보다 많은 경우는 분석을 잘못한 경우이니 틀린 것이다.\n",
        "                              correct = False\n",
        "                              break\n",
        "          else: # 정답이 하나의 토큰인 경우(ex.밀가루, NNG)\n",
        "              if (token[0] == answer[0]) and (token[1] == answer[1]):\n",
        "                  correct = True\n",
        "\n",
        "      acc += int(correct)\n",
        "      tot += 1\n",
        "      \n",
        "  return acc / tot"
      ]
    },
    {
      "cell_type": "code",
      "execution_count": 23,
      "metadata": {
        "colab": {
          "base_uri": "https://localhost:8080/"
        },
        "id": "RZuPU_UjSzKj",
        "outputId": "b298afb9-085f-4de8-fb3c-c31a40795c89"
      },
      "outputs": [
        {
          "name": "stderr",
          "output_type": "stream",
          "text": [
            "100%|██████████| 35396/35396 [09:03<00:00, 65.11it/s]\n"
          ]
        }
      ],
      "source": [
        "bareun_probability = bareun_evaluate(testset)"
      ]
    },
    {
      "cell_type": "code",
      "execution_count": null,
      "metadata": {
        "id": "sCGUdflKTDES"
      },
      "outputs": [],
      "source": [
        "print(f'정확도: {bareun_probability*100:.2f}%')"
      ]
    },
    {
      "cell_type": "markdown",
      "metadata": {
        "id": "Uab--lR9O7sN"
      },
      "source": [
        "##### mecab"
      ]
    },
    {
      "cell_type": "markdown",
      "metadata": {
        "id": "aEIPkk02ACSM"
      },
      "source": [
        "mecab 모델을 평가하는 함수입니다."
      ]
    },
    {
      "cell_type": "code",
      "execution_count": 25,
      "metadata": {
        "id": "5mgTjtKBTSk4"
      },
      "outputs": [],
      "source": [
        "def mecab_evaluate(dataset):\n",
        "  from tqdm import tqdm\n",
        "  from google.protobuf.json_format import MessageToDict\n",
        "  acc, tot = 0, 0\n",
        "    \n",
        "  for index, (answer, exam) in enumerate(tqdm(dataset)):\n",
        "      correct = False\n",
        "      result = mecab.pos(exam)\n",
        "      answer_length = len(answer)\n",
        "      correct_cnt = 0\n",
        "      for idx, token in enumerate(result):\n",
        "          # 첫번째 토큰이 정답이면 정답의 길이만큼 다음 토큰을 계산한다.\n",
        "          i = 0\n",
        "          if isinstance(answer, list): # 정답이 두개 이상의 토큰이 경우(ex. [(쿠키, NNG), (와, JC)])\n",
        "              if (token[0] == answer[i][0]) and (token[1] == answer[i][1]):\n",
        "                  correct_cnt += 1\n",
        "                  while i <= answer_length:\n",
        "                      i += 1\n",
        "                      if i < answer_length:\n",
        "                          try:\n",
        "                              if (result[idx+i][0] == answer[i][0]) and (result[idx+i][1] == answer[i][1]):\n",
        "                                  correct_cnt +=1\n",
        "                                  if correct_cnt == answer_length:\n",
        "                                      correct = True\n",
        "                                      break\n",
        "                          except: # 정답이 결과보다 많은 경우는 분석을 잘못한 경우이니 틀린 것이다.\n",
        "                              correct = False\n",
        "                              break\n",
        "          else: # 정답이 하나의 토큰인 경우(ex.밀가루, NNG)\n",
        "              if (token[0] == answer[0]) and (token[1] == answer[1]):\n",
        "                  correct = True\n",
        "\n",
        "      acc += int(correct)\n",
        "      tot += 1\n",
        "      \n",
        "  return acc / tot"
      ]
    },
    {
      "cell_type": "code",
      "execution_count": 26,
      "metadata": {
        "colab": {
          "base_uri": "https://localhost:8080/"
        },
        "id": "ezD_m-vpVF00",
        "outputId": "2fd91e14-6f20-4185-e138-b23bba76d451"
      },
      "outputs": [
        {
          "name": "stderr",
          "output_type": "stream",
          "text": [
            "100%|██████████| 35396/35396 [00:06<00:00, 5772.57it/s]\n"
          ]
        }
      ],
      "source": [
        "mecab_probability = mecab_evaluate(testset)"
      ]
    },
    {
      "cell_type": "code",
      "execution_count": null,
      "metadata": {
        "id": "8i8f-esDVIw0"
      },
      "outputs": [],
      "source": [
        "print(f'정확도: {mecab_probability*100:.2f}%')"
      ]
    },
    {
      "cell_type": "markdown",
      "metadata": {
        "id": "edcmqughPwuY"
      },
      "source": [
        "##### 비교"
      ]
    },
    {
      "cell_type": "code",
      "execution_count": 28,
      "metadata": {
        "id": "vgKZCTd8jKNU"
      },
      "outputs": [],
      "source": [
        "sents = [\n",
        "\"조길상의 음성은 김광석보다 조금 탁하고 가는 편이다.\",\n",
        "\"그건 제가 그냥 갖고 있는 개인 킵니다.\",\n",
        "\"이런 속도라면 20년 뒤에는 50만에서 200만 종이 멸종될 것으로 학자들은 예측하고 있다.\",\n",
        "\"방안 가득 풀어놓으며 먹자고 했지만 화가 날 대로 나 있던 나는 \",\n",
        "\"어제 귀가 시간부터 오늘 아침까지는 남편으로, 아들로, 아빠로 지냈지만\",\n",
        "\"회사가 진심이라면 먼저 성의 있는 안을 내놔야 한다”고 말했다.\",\n",
        "\"한반도를 둘러싼 주변 네 강의 변화는 격세지감이 있다.\",\n",
        "\"창의 융합 콘텐츠 개발을 위해\",\n",
        "\"두 번째는 모두를 위한 창의 인성 교육을 확산시키겠다 하는거고요\"\n",
        "]\n",
        "bareun_result = []\n",
        "mecab_result = []\n",
        "for sent in sents:\n",
        "  res1 = t.tags([sent]).pos()\n",
        "  bareun_result.append(res1)\n",
        "  res2 = mecab.pos(sent)\n",
        "  mecab_result.append(res2)\n"
      ]
    },
    {
      "cell_type": "markdown",
      "metadata": {
        "id": "ucvxiukoAzSL"
      },
      "source": [
        "| 표면형 | 정답          | bareun 분석결과      | mecab 분석결과      |\n",
        "|-----|-------------|-------------|-------------|\n",
        "| 가는  | 가늘/VV       | 가늘/VV       | 가/VV        |\n",
        "| 키   | 키/NNG       | 키/NNG       | 키/NNP       |\n",
        "| 종이  | 종/NNG+이/JKS       | 종/NNG+이/JKS       | 종이/NNG      |\n",
        "| 귀가  | 귀가/NNG      | 귀가/NNG      | 귀/NNG+가/JKS |\n",
        "| 성의  | 성의/NNG      | 성의/NNG      | 성/NNG+의/JKG |\n",
        "| 강의  | 강/NNG+의/JKG | 강/NNG+의/JKG | 강의/NNG      |\n",
        "| 창의  | 창의/NNG      | 창의/NNG      | 창/NNG+의/JKG |\n",
        "| 창의  | 창의/NNG      | 창의/NNG      | 창/NNG+의/JKG |"
      ]
    },
    {
      "cell_type": "code",
      "execution_count": 29,
      "metadata": {
        "colab": {
          "base_uri": "https://localhost:8080/"
        },
        "id": "yeId4l4TKl5N",
        "outputId": "8e766a95-48bb-4fbb-b570-026a5fa10f24"
      },
      "outputs": [
        {
          "name": "stdout",
          "output_type": "stream",
          "text": [
            "[('조길상', 'NNP'), ('의', 'JKG'), ('음성', 'NNG'), ('은', 'JX'), ('김광석', 'NNP'), ('보다', 'JKB'), ('조금', 'MAG'), ('탁하', 'VA'), ('고', 'EC'), ('가늘', 'VA'), ('ㄴ', 'ETM'), ('편', 'NNB'), ('이', 'VCP'), ('다', 'EF'), ('.', 'SF')]\n",
            "[('그거', 'NP'), ('ㄴ', 'JX'), ('제', 'NP'), ('가', 'JKS'), ('그냥', 'MAG'), ('갖', 'VV'), ('고', 'EC'), ('있', 'VX'), ('는', 'ETM'), ('개인', 'NNG'), ('키', 'NNG'), ('이', 'VCP'), ('ㅂ니다', 'EF'), ('.', 'SF')]\n",
            "[('이런', 'MMD'), ('속도', 'NNG'), ('이', 'VCP'), ('라면', 'EC'), ('20', 'SN'), ('년', 'NNB'), ('뒤', 'NNG'), ('에', 'JKB'), ('는', 'JX'), ('50', 'SN'), ('만', 'NR'), ('에서', 'JKB'), ('200', 'SN'), ('만', 'NR'), ('종', 'NNG'), ('이', 'JKS'), ('멸종되', 'VV'), ('ㄹ', 'ETM'), ('것', 'NNB'), ('으로', 'JKB'), ('학자', 'NNG'), ('들', 'XSN'), ('은', 'JX'), ('예측하', 'VV'), ('고', 'EC'), ('있', 'VX'), ('다', 'EF'), ('.', 'SF')]\n",
            "[('방', 'NNG'), ('안', 'NNG'), ('가득', 'MAG'), ('풀어놓', 'VV'), ('으며', 'EC'), ('먹', 'VV'), ('자고', 'EC'), ('하', 'VV'), ('았', 'EP'), ('지만', 'EC'), ('화', 'NNG'), ('가', 'JKS'), ('나', 'VV'), ('ㄹ', 'ETM'), ('대로', 'NNB'), ('나', 'VV'), ('아', 'EC'), ('있', 'VX'), ('던', 'ETM'), ('나', 'NP'), ('는', 'JX')]\n",
            "[('어제', 'NNG'), ('귀가', 'NNG'), ('시간', 'NNG'), ('부터', 'JX'), ('오늘', 'NNG'), ('아침', 'NNG'), ('까지', 'JX'), ('는', 'JX'), ('남편', 'NNG'), ('으로', 'JKB'), (',', 'SP'), ('아들', 'NNG'), ('로', 'JKB'), (',', 'SP'), ('아빠', 'NNG'), ('로', 'JKB'), ('지내', 'VV'), ('었', 'EP'), ('지만', 'EC')]\n",
            "[('회사', 'NNG'), ('가', 'JKS'), ('진심', 'NNG'), ('이', 'VCP'), ('라면', 'EC'), ('먼저', 'MAG'), ('성의', 'NNG'), ('있', 'VA'), ('는', 'ETM'), ('안', 'NNG'), ('을', 'JKO'), ('내놓', 'VV'), ('아야', 'EC'), ('하', 'VX'), ('ㄴ다', 'EF'), ('”', 'SS'), ('고', 'JKQ'), ('말하', 'VV'), ('았', 'EP'), ('다', 'EF'), ('.', 'SF')]\n",
            "[('한반도', 'NNP'), ('를', 'JKO'), ('둘러싸', 'VV'), ('ㄴ', 'ETM'), ('주변', 'NNG'), ('네', 'MMN'), ('강', 'NNG'), ('의', 'JKG'), ('변화', 'NNG'), ('는', 'JX'), ('격세지감', 'NNG'), ('이', 'JKS'), ('있', 'VA'), ('다', 'EF'), ('.', 'SF')]\n",
            "[('창의', 'NNG'), ('융합', 'NNG'), ('콘텐츠', 'NNG'), ('개발', 'NNG'), ('을', 'JKO'), ('위하', 'VV'), ('아', 'EC')]\n",
            "[('두', 'MMN'), ('번', 'NNB'), ('째', 'XSN'), ('는', 'JX'), ('모두', 'NNG'), ('를', 'JKO'), ('위하', 'VV'), ('ㄴ', 'ETM'), ('창의', 'NNG'), ('인성', 'NNG'), ('교육', 'NNG'), ('을', 'JKO'), ('확산', 'NNG'), ('시키', 'XSV'), ('겠', 'EP'), ('다', 'EF'), ('하', 'VV'), ('는', 'ETM'), ('거', 'NNB'), ('이', 'VCP'), ('고', 'EC'), ('요', 'JX')]\n"
          ]
        }
      ],
      "source": [
        "for result in bareun_result:\n",
        "  print(result)"
      ]
    },
    {
      "cell_type": "code",
      "execution_count": 30,
      "metadata": {
        "colab": {
          "base_uri": "https://localhost:8080/"
        },
        "id": "fuI_XA4bLDg9",
        "outputId": "1869c018-eb0e-4170-c4db-2fe5ae774f95"
      },
      "outputs": [
        {
          "name": "stdout",
          "output_type": "stream",
          "text": [
            "[('조길상', 'NNP'), ('의', 'JKG'), ('음성', 'NNG'), ('은', 'JX'), ('김광석', 'NNP'), ('보다', 'JKB'), ('조금', 'MAG'), ('탁하', 'VV'), ('고', 'EC'), ('가', 'VX'), ('는', 'ETM'), ('편', 'NNB'), ('이', 'VCP'), ('다', 'EF'), ('.', 'SF')]\n",
            "[('그건', 'NP+JX'), ('제', 'NP'), ('가', 'JKS'), ('그냥', 'MAG'), ('갖', 'VV'), ('고', 'EC'), ('있', 'VX'), ('는', 'ETM'), ('개인', 'NNG'), ('킵', 'NNP'), ('니다', 'VCP+EF'), ('.', 'SF')]\n",
            "[('이런', 'MM'), ('속도', 'NNG'), ('라면', 'VCP+EC'), ('20', 'SN'), ('년', 'NNBC'), ('뒤', 'NNG'), ('에', 'JKB'), ('는', 'JX'), ('50', 'SN'), ('만', 'NNG'), ('에서', 'JKB'), ('200', 'SN'), ('만', 'NR'), ('종이', 'NNG'), ('멸종', 'NNG'), ('될', 'XSV+ETM'), ('것', 'NNB'), ('으로', 'JKB'), ('학자', 'NNG'), ('들', 'XSN'), ('은', 'JX'), ('예측', 'NNG'), ('하', 'XSV'), ('고', 'EC'), ('있', 'VX'), ('다', 'EF'), ('.', 'SF')]\n",
            "[('방안', 'NNG'), ('가득', 'MAG'), ('풀어놓', 'VV'), ('으며', 'EC'), ('먹', 'VV'), ('자고', 'EC'), ('했', 'VX+EP'), ('지만', 'EC'), ('화', 'NNG'), ('가', 'JKS'), ('날', 'VV+ETM'), ('대로', 'NNB'), ('나', 'VV+EC'), ('있', 'VX'), ('던', 'ETM'), ('나', 'NP'), ('는', 'JX')]\n",
            "[('어제', 'MAG'), ('귀', 'NNG'), ('가', 'JKS'), ('시간', 'NNG'), ('부터', 'JX'), ('오늘', 'MAG'), ('아침', 'NNG'), ('까지', 'JX'), ('는', 'JX'), ('남편', 'NNG'), ('으로', 'JKB'), (',', 'SC'), ('아들', 'NNG'), ('로', 'JKB'), (',', 'SC'), ('아빠', 'NNG'), ('로', 'JKB'), ('지냈', 'VV+EP'), ('지만', 'EC')]\n",
            "[('회사', 'NNG'), ('가', 'JKS'), ('진심', 'NNG'), ('이', 'VCP'), ('라면', 'EC'), ('먼저', 'MAG'), ('성', 'NNG'), ('의', 'JKG'), ('있', 'VA'), ('는', 'ETM'), ('안', 'NNG'), ('을', 'JKO'), ('내놔야', 'VV+EC'), ('한다', 'VX+EC'), ('”', 'SSC'), ('고', 'EC'), ('말', 'NNG'), ('했', 'XSV+EP'), ('다', 'EF'), ('.', 'SF')]\n",
            "[('한반도', 'NNP'), ('를', 'JKO'), ('둘러싼', 'VV+ETM'), ('주변', 'NNG'), ('네', 'XPN'), ('강의', 'NNG'), ('변화', 'NNG'), ('는', 'JX'), ('격세지감', 'NNG'), ('이', 'JKS'), ('있', 'VA'), ('다', 'EF'), ('.', 'SF')]\n",
            "[('창', 'NNG'), ('의', 'JKG'), ('융합', 'NNG'), ('콘텐츠', 'NNG'), ('개발', 'NNG'), ('을', 'JKO'), ('위해', 'VV+EC')]\n",
            "[('두', 'MM'), ('번', 'NNBC'), ('째', 'XSN'), ('는', 'JX'), ('모두', 'NNG'), ('를', 'JKO'), ('위한', 'VV+ETM'), ('창', 'NNG'), ('의', 'JKG'), ('인성', 'NNG'), ('교육', 'NNG'), ('을', 'JKO'), ('확산', 'NNG'), ('시키', 'XSV'), ('겠', 'EP'), ('다', 'EC'), ('하', 'VV'), ('는', 'ETM'), ('거', 'NNB'), ('고요', 'VCP+EF')]\n"
          ]
        }
      ],
      "source": [
        "for result in mecab_result:\n",
        "  print(result)"
      ]
    }
  ],
  "metadata": {
    "accelerator": "GPU",
    "colab": {
      "provenance": []
    },
    "gpuClass": "standard",
    "kernelspec": {
      "display_name": "Python 3",
      "name": "python3"
    },
    "language_info": {
      "name": "python"
    }
  },
  "nbformat": 4,
  "nbformat_minor": 0
}
