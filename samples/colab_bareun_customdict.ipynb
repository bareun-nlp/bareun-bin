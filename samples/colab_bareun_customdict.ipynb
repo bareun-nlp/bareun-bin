{
  "cells": [
    {
      "cell_type": "markdown",
      "metadata": {
        "id": "U4TgCGKCasSO"
      },
      "source": [
        "## 바른 형태소 분석기 활용 4(사용자 사전 사용하기)\n",
        "(이미 설치를 완료하신 분들은 아래 '샘플 텍스트 파일 다운로드' 부분부터 실행하면 됩니다.)\n",
        "\n",
        "바른 설치\n",
        "바른을 설치합니다.\n",
        "\n",
        "바른의 리눅스 설치본을 다운로드 받습니다."
      ]
    },
    {
      "cell_type": "code",
      "execution_count": null,
      "metadata": {
        "colab": {
          "base_uri": "https://localhost:8080/"
        },
        "id": "V7_Nz13GZ44q",
        "outputId": "bccd92f0-374c-4d00-edfa-81c84cc35a32"
      },
      "outputs": [
        {
          "name": "stdout",
          "output_type": "stream",
          "text": [
            "bareun-linux.deb  drive  sample_data\n"
          ]
        }
      ],
      "source": [
        "!curl -LJks -H \"uname:$(uname -a)\" https://bareun.ai/api/get -o bareun-linux.deb\n",
        "!ls"
      ]
    },
    {
      "cell_type": "code",
      "execution_count": null,
      "metadata": {
        "colab": {
          "base_uri": "https://localhost:8080/"
        },
        "id": "xFhStLRBZ8GT",
        "outputId": "72dfba85-4b2f-4309-fbdb-79eda62f87d3"
      },
      "outputs": [
        {
          "name": "stdout",
          "output_type": "stream",
          "text": [
            "Linux 3ebcedc2984c 5.15.107+ #1 SMP Sat Apr 29 09:15:28 UTC 2023 x86_64 x86_64 x86_64 GNU/Linux\n"
          ]
        }
      ],
      "source": [
        "!uname -a"
      ]
    },
    {
      "cell_type": "markdown",
      "metadata": {
        "id": "eMy_0XNla6Q8"
      },
      "source": [
        "**바른**을 설치합니다."
      ]
    },
    {
      "cell_type": "code",
      "execution_count": null,
      "metadata": {
        "colab": {
          "background_save": true,
          "base_uri": "https://localhost:8080/"
        },
        "id": "l0Zo4lyqZ9Wc",
        "outputId": "1dd41fa9-1670-4002-96f1-bd449c0c2d6b"
      },
      "outputs": [
        {
          "name": "stdout",
          "output_type": "stream",
          "text": [
            "(Reading database ... \r(Reading database ... 5%\r(Reading database ... 10%\r(Reading database ... 15%\r(Reading database ... 20%\r(Reading database ... 25%\r(Reading database ... 30%\r(Reading database ... 35%\r(Reading database ... 40%\r(Reading database ... 45%\r(Reading database ... 50%\r(Reading database ... 55%\r(Reading database ... 60%\r(Reading database ... 65%\r(Reading database ... 70%\r(Reading database ... 75%\r(Reading database ... 80%\r(Reading database ... 85%\r(Reading database ... 90%\r(Reading database ... 95%\r(Reading database ... 100%\r(Reading database ... 122541 files and directories currently installed.)\n",
            "Preparing to unpack bareun-linux.deb ...\n",
            "Unpacking bareun (2.1.0) over (2.0.4) ...\n"
          ]
        }
      ],
      "source": [
        "!dpkg -i bareun-linux.deb"
      ]
    },
    {
      "cell_type": "markdown",
      "metadata": {
        "id": "oOejuNAuaPSu"
      },
      "source": [
        "아래는 바른 모델이 GPU를 사용하기 위해서 다운받는 tensorflow 라이브러리입니다.\n",
        "\n",
        "상단의 메뉴탭의 \"런타임 > 런타임 유형 변경 > 하드웨어 가속기 > GPU 선택 > 저장\"을 설정하시면 모델의 추론 속도가 더 빨라집니다. 단, 무료버전의 경우 coloab의 일일 사용 제한을 초과하지 않아야 합니다.\n",
        "\n",
        "기본적으로 CPU를 사용해도 작동합니다."
      ]
    },
    {
      "cell_type": "code",
      "execution_count": null,
      "metadata": {
        "colab": {
          "base_uri": "https://localhost:8080/"
        },
        "id": "AA_GGogIaH7M",
        "outputId": "161f5f7e-7bc5-4619-d6c8-3c0450e82870"
      },
      "outputs": [
        {
          "name": "stdout",
          "output_type": "stream",
          "text": [
            "  % Total    % Received % Xferd  Average Speed   Time    Time     Time  Current\n",
            "                                 Dload  Upload   Total   Spent    Left  Speed\n",
            "100  392M  100  392M    0     0  21.4M      0  0:00:18  0:00:18 --:--:-- 23.9M\n"
          ]
        }
      ],
      "source": [
        "!curl -O https://storage.googleapis.com/tensorflow/libtensorflow/libtensorflow-gpu-linux-x86_64-2.9.1.tar.gz"
      ]
    },
    {
      "cell_type": "code",
      "execution_count": null,
      "metadata": {
        "id": "kMWeiR6VbD71"
      },
      "outputs": [],
      "source": [
        "!tar -C /opt/bareun -xzf libtensorflow-gpu-linux-x86_64-2.9.1.tar.gz"
      ]
    },
    {
      "cell_type": "markdown",
      "metadata": {
        "id": "rIr3OdJseIf9"
      },
      "source": [
        "## 환경 설정하기\n",
        "아래 코드는 BAREUN_ROOT와 LD_LIBRARY_PATH를 설정하고, /opt/bareun/bin/bareun을 백그라운드로 실행하는 코드입니다."
      ]
    },
    {
      "cell_type": "code",
      "execution_count": null,
      "metadata": {
        "colab": {
          "base_uri": "https://localhost:8080/"
        },
        "id": "NWKd0c96eN7q",
        "outputId": "c2c5545b-ca76-4625-a1c0-ec8d0ecff469"
      },
      "outputs": [
        {
          "name": "stdout",
          "output_type": "stream",
          "text": [
            "env: BAREUN_ROOT=\"/opt/bareun\"\n",
            "env: LD_LIBRARY_PATH=\"/opt/bareun/lib\"\n",
            "nohup: appending output to 'nohup.out'\n"
          ]
        }
      ],
      "source": [
        "%env BAREUN_ROOT=\"/opt/bareun\"\n",
        "%env LD_LIBRARY_PATH=\"/opt/bareun/lib\"\n",
        "!BAREUN_ROOT=\"/opt/bareun\" LD_LIBRARY_PATH=\"/opt/bareun/lib\" nohup /opt/bareun/bin/bareun&\n"
      ]
    },
    {
      "cell_type": "code",
      "execution_count": null,
      "metadata": {
        "colab": {
          "base_uri": "https://localhost:8080/"
        },
        "id": "qToA97ZneUvm",
        "outputId": "220a86bb-53fd-430e-a8b0-923824352373"
      },
      "outputs": [
        {
          "name": "stdout",
          "output_type": "stream",
          "text": [
            "root        8111       1  1 06:32 ?        00:00:43 /opt/bareun/bin/bareun\n",
            "root       24572     552  0 07:37 ?        00:00:00 /bin/bash -c ps -ef | grep bareun\n",
            "root       24574   24572  0 07:37 ?        00:00:00 grep bareun\n"
          ]
        }
      ],
      "source": [
        "!ps -ef | grep bareun"
      ]
    },
    {
      "cell_type": "markdown",
      "metadata": {
        "id": "mhnOpMybeb9r"
      },
      "source": [
        "API키 발급 바른 홈페이지(https://bareun.ai/) 에 회원가입해서 API키를 받습니다.\n",
        "\n",
        "API키 복사\n",
        "발급 받은 API키를 -reg 인자 다음에 입력하여 등록합니다."
      ]
    },
    {
      "cell_type": "code",
      "execution_count": null,
      "metadata": {
        "colab": {
          "base_uri": "https://localhost:8080/"
        },
        "id": "gW5lSyC_edSj",
        "outputId": "5472df84-4149-46cd-bde7-120a89d83f5d"
      },
      "outputs": [
        {
          "name": "stdout",
          "output_type": "stream",
          "text": [
            "Use config file: /opt/bareun/config/bareun.json\n",
            "\n",
            "------\n",
            "200 OK\n",
            "This apikey is already registered.\n"
          ]
        }
      ],
      "source": [
        "!BAREUN_ROOT=\"/opt/bareun\" LD_LIBRARY_PATH=\"/opt/bareun/lib\" /opt/bareun/bin/bareun -reg \"YOUR-API-KEY\""
      ]
    },
    {
      "cell_type": "markdown",
      "metadata": {
        "id": "k_FE9g6zdz6L"
      },
      "source": [
        "## 바른 사용하기\n",
        "**PIP 패키지 설치**\n"
      ]
    },
    {
      "cell_type": "code",
      "execution_count": null,
      "metadata": {
        "colab": {
          "base_uri": "https://localhost:8080/"
        },
        "id": "PZXCJIDTdy5w",
        "outputId": "05995f60-8757-4d12-f056-ee7159c6424b"
      },
      "outputs": [
        {
          "name": "stdout",
          "output_type": "stream",
          "text": [
            "Looking in indexes: https://pypi.org/simple, https://us-python.pkg.dev/colab-wheels/public/simple/\n",
            "Requirement already satisfied: bareunpy in /usr/local/lib/python3.10/dist-packages (1.6.0)\n",
            "Requirement already satisfied: bareun-apis<0.13.0,>=0.12.0 in /usr/local/lib/python3.10/dist-packages (from bareunpy) (0.12.0)\n",
            "Requirement already satisfied: googleapis-common-protos<2.0.0,>=1.56.0 in /usr/local/lib/python3.10/dist-packages (from bareunpy) (1.59.0)\n",
            "Requirement already satisfied: grpcio<2.0.0,>=1.46.0 in /usr/local/lib/python3.10/dist-packages (from bareunpy) (1.54.0)\n",
            "Requirement already satisfied: protobuf<4.0.0,>=3.19.4 in /usr/local/lib/python3.10/dist-packages (from bareunpy) (3.20.3)\n"
          ]
        }
      ],
      "source": [
        "!pip install -U bareunpy"
      ]
    },
    {
      "cell_type": "code",
      "execution_count": null,
      "metadata": {
        "id": "UbfBMhf9dVum"
      },
      "outputs": [],
      "source": [
        "import sys\n",
        "from bareunpy import Tagger\n",
        "API_KEY = \"YOUR-API-KEY\"\n",
        "tagger = Tagger(API_KEY, \"localhost\", 5656)"
      ]
    },
    {
      "cell_type": "markdown",
      "metadata": {
        "id": "vYBFwl-4k4Qj"
      },
      "source": [
        "## 샘플 텍스트 파일 다운로드\n",
        "\n",
        "* legal_sentences.txt: 약 3천 문장으로 구성된 샘플 법률(민사) 텍스트 파일입니다(출처:https://aihub.or.kr/aihubdata/data/view.do?currMenu=115&topMenu=100&aihubDataSe=realm&dataSetSn=580).\n",
        "* legal_words.txt: 법률 용어 사전의 일부입니다."
      ]
    },
    {
      "cell_type": "code",
      "execution_count": null,
      "metadata": {
        "colab": {
          "base_uri": "https://localhost:8080/"
        },
        "id": "GPpDyJPNfEo_",
        "outputId": "f7b78603-117f-4fdd-cd28-a692d4dbc3bc"
      },
      "outputs": [
        {
          "name": "stdout",
          "output_type": "stream",
          "text": [
            "Looking in indexes: https://pypi.org/simple, https://us-python.pkg.dev/colab-wheels/public/simple/\n",
            "Requirement already satisfied: gdown in /usr/local/lib/python3.10/dist-packages (4.7.1)\n",
            "Requirement already satisfied: filelock in /usr/local/lib/python3.10/dist-packages (from gdown) (3.12.0)\n",
            "Requirement already satisfied: requests[socks] in /usr/local/lib/python3.10/dist-packages (from gdown) (2.27.1)\n",
            "Requirement already satisfied: six in /usr/local/lib/python3.10/dist-packages (from gdown) (1.16.0)\n",
            "Requirement already satisfied: tqdm in /usr/local/lib/python3.10/dist-packages (from gdown) (4.65.0)\n",
            "Requirement already satisfied: beautifulsoup4 in /usr/local/lib/python3.10/dist-packages (from gdown) (4.11.2)\n",
            "Requirement already satisfied: soupsieve>1.2 in /usr/local/lib/python3.10/dist-packages (from beautifulsoup4->gdown) (2.4.1)\n",
            "Requirement already satisfied: urllib3<1.27,>=1.21.1 in /usr/local/lib/python3.10/dist-packages (from requests[socks]->gdown) (1.26.15)\n",
            "Requirement already satisfied: certifi>=2017.4.17 in /usr/local/lib/python3.10/dist-packages (from requests[socks]->gdown) (2022.12.7)\n",
            "Requirement already satisfied: charset-normalizer~=2.0.0 in /usr/local/lib/python3.10/dist-packages (from requests[socks]->gdown) (2.0.12)\n",
            "Requirement already satisfied: idna<4,>=2.5 in /usr/local/lib/python3.10/dist-packages (from requests[socks]->gdown) (3.4)\n",
            "Requirement already satisfied: PySocks!=1.5.7,>=1.5.6 in /usr/local/lib/python3.10/dist-packages (from requests[socks]->gdown) (1.7.1)\n"
          ]
        }
      ],
      "source": [
        "!pip install -U gdown"
      ]
    },
    {
      "cell_type": "code",
      "execution_count": 49,
      "metadata": {
        "colab": {
          "base_uri": "https://localhost:8080/"
        },
        "id": "faGheusxfGvn",
        "outputId": "19050aa9-76fb-4504-e38d-949caa761465"
      },
      "outputs": [
        {
          "output_type": "stream",
          "name": "stdout",
          "text": [
            "Downloading...\n",
            "From: https://drive.google.com/uc?id=1LOLOzX8xP_Mtsy3eHN6tmNHuHbWoPgyK\n",
            "To: /content/legal_sentences.txt\n",
            "100% 1.04M/1.04M [00:00<00:00, 108MB/s]\n",
            "Downloading...\n",
            "From: https://drive.google.com/uc?id=1qPPtcsq1_z8zwT3g4TzEWs5nAgWtTd9-\n",
            "To: /content/legal_words.txt\n",
            "100% 827/827 [00:00<00:00, 3.80MB/s]\n"
          ]
        }
      ],
      "source": [
        "!gdown  https://drive.google.com/file/d/1LOLOzX8xP_Mtsy3eHN6tmNHuHbWoPgyK/view?usp=sharing -O legal_sentences.txt --fuzzy\n",
        "!gdown  https://drive.google.com/file/d/1qPPtcsq1_z8zwT3g4TzEWs5nAgWtTd9-/view?usp=sharing -O legal_words.txt --fuzzy"
      ]
    },
    {
      "cell_type": "markdown",
      "metadata": {
        "id": "FlySzjiiaTwM"
      },
      "source": [
        "## 사용자 사전 사용 예제\n",
        "\n",
        "* 사용자 사전은 형태소 분석기가 원래 알고 있지 못하는 단어나 표현을 인식하도록 도와줍니다. 사용자 사전의 일반적인 사용 목적은 다음과 같습니다.\n",
        "  * 특수한 도메인의 단어 인식\n",
        "     * 의료, 법률, IT, 문학, 과학 등 특정 도메인에서만 사용되는 어려운 단어를 등록하여 인식률을 높입니다.\n",
        "  * 이름, 기업명, 제품명 등 고유명사 인식\n",
        "  * 특정 단어에 대한 분석(분절) 방법 변경\n",
        "    * 예를 들어, GS25는 원래 \"GS/SL+25/SN\" 이렇게 분석되지만 사용자 사전에 등록하면 \"GS25/NNG\" 이렇게 분석되어 특정한 명사를 찾을 때 유용합니다.\n",
        "\n",
        "* 이 예제에서는 법률 도메인의 문장을 분석하여 사용자 사전을 등록했을 때 어떻게 분석되는지 확인해봅니다.\n",
        "\n",
        "\n"
      ]
    },
    {
      "cell_type": "code",
      "source": [
        "# 문장 로딩\n",
        "with open('legal_sentences.txt', 'r') as file:\n",
        "  legal_sentences = [line.strip() for line in file]\n",
        "  print(f'legal_sentenses[:10]: {legal_sentences[:10]}')\n",
        "# 단어 로딩\n",
        "with open('legal_words.txt', 'r') as file:\n",
        "  legal_words = [line.strip() for line in file]\n",
        "  print(f'legal_words[:10]: {legal_words[:10]}')"
      ],
      "metadata": {
        "colab": {
          "base_uri": "https://localhost:8080/"
        },
        "id": "bPXixYNNJuxf",
        "outputId": "a45aae89-c042-40e4-a40b-7eb8ab215f3d"
      },
      "execution_count": 52,
      "outputs": [
        {
          "output_type": "stream",
          "name": "stdout",
          "text": [
            "legal_sentenses[:10]: ['피고 측 차량이 신호대기 중에 핸들이 우측으로 틀어져 있었고 이후 그대로 진행하다가 우측에 있던 원고 측 차량과 충돌하면서 사고가 발생하기는 하였으나, 피고 측 측 차량과 그 뒤의 차량이 신호대기로 정차하고 있는 중에 원고 측 차량이 한 개 차로의 우측에 있는 좁은 빈 공간을 통하여 무리하게 진행한 행위가 사고 발생에 영향을 끼쳤다.', '피고 측 차량이 좌측 방향지시등을 켜놓았다고 하여 원고 측 차량이 한 개 차로의 우측에 있는 좁은 빈 공간을 통하여 진행하는 행위가 정당화된다고 볼 수 없다.', '피고 측 차량의 바퀴가 상당한 정도로 우측으로 꺾여 있었으므로 원고 측 차량은 이를 주의 깊게 보았다면 우측의 좁은 빈공간을 진행하는 것을 더욱 주의해야 하였을 것으로 보인다.', '원고 측 과실비율 40%, 피고 측 과실비율 60%로 봄이 타당하다.', '구상금액은 1,278,700원(= 총 손해액 2,964,500원 X 피고 측 과실비율 60% - 자기부담금 500,000원)이다.', '원고는 피고 또는 000 중 어느 누구에게나 보증채무의 이행으로 출연한 금액 전부에 대해 구상권을 행사할 수 있다.', '가사 원고가 피고 주장과 같이 연대채무자인 000의 회생절차에서 회생채권 신고를 제때 하지 않았다고 하더라도, 피고에 대한 관계에서 이를 두고 위법한 행위라거나, 그로써 피고가 어떠한 손해를 입었다고 볼 수 없다.', '따라서 피고의 상계 항변은 그 자동채권의 존재를 인정할 수 없으므로, 더 나아가 살펴 볼 것도 없이 이유 없다.', '그러나 피고가 주장하는 사정만으로는 원고의 청구가 신의칙에 반하는 권리남용이라고 보기 어렵고, 달리 이를 인정할 증거가 없으므로, 피고의 위 주장도 받아들일 수 없다.', '2006. 8. 22. 피고를 시공사로 선정한 주민총회 의결이 있었더라도 이는 무효이고, 그에 기하여 체결된 이 사건 도급약정 역시 무효이다.']\n",
            "legal_words[:10]: ['기소유예', '현장검증', '현물출자', '가석방', '가압류', '가족법', '가집행선고', '간접강제', '감정인', '감형권']\n"
          ]
        }
      ]
    },
    {
      "cell_type": "code",
      "execution_count": 51,
      "metadata": {
        "colab": {
          "base_uri": "https://localhost:8080/"
        },
        "id": "MSRc3kgvZk8C",
        "outputId": "2f0b1c58-e901-41a7-da02-8f6a5ad11466"
      },
      "outputs": [
        {
          "output_type": "stream",
          "name": "stdout",
          "text": [
            "1: ['채무불이행/NNG, IN_CUSTOM_DICT']: 이 사건 제 4~12 게시 글의 내용 중 일부 감정적이고 거친 표현이 포함되어 있다고 하더라도 그 게시행위 역시 원고의 사회적 평가를 저해할 정도에 이르는 비방 또는 명예훼손 행위에 해당하지 않거나 표현의 자유의 한계를 벗어나지 아니한 행위로서 위법성이 조각되어 채무불이행이 성립하지 않는다고 봄이 타당하다.\n",
            "2: ['채무불이행/NNG, IN_CUSTOM_DICT']: 이 사건 비방금지 약정 위반에 따른 채무불이행이 성립하지 않는다고 봄이 타당하다.\n",
            "3: ['채무불이행/NNG, IN_CUSTOM_DICT']: 뿐만 아니라, 설령 원고의 비밀에 해당한다고 하더라도 위 나) 항에서 본 사정들에 비추어 그 제보행위는 공공의 이익을 위한 것으로서 그 표현내용이나 방법 등이 부당하다고 볼 수 없어 위법성이 조각된다고 할 것이므로, 이 사건 비밀누설금지 약정 위반에 따른 채무불이행도 성립하지 않는다고 봄이 타당하다.\n",
            "4: ['채무불이행/NNG, IN_CUSTOM_DICT']: 이 사건 비방금지 약정 위반에 따른 채무불이행이 성립하지 않는다고 봄이 타당하다.\n",
            "5: ['채무불이행/NNG, IN_CUSTOM_DICT']: 설령 원고의 비밀에 해당한다고 하더라도 위 나)항에서 본 사정들에 비추어 그 제보행위는 공공의 이익을 위한 것으로서 그 표현내용이나 방법 등이 부당하다고 볼 수 없어 위법이 조각된다고 할 것이므로, 이 사건 비밀누설금지 약정 위반에 따른 채무불이행이 성립하지 않는다고 봄이 타당하다.\n",
            "6: ['채무불이행/NNG, IN_CUSTOM_DICT']: 설령 피고의 이 부분 제보 내용이 원고의 명예나 신용을 훼손할 수 있는 내용이라 하더라도, 이는 공공의 이익을 위한 것으로서 위법성이 조각된다고 할 것이므로, 이 사건 비방금지 약정 위반에 따른 채무불이행이 성립하지 않는다고 봄이 타당하다.\n",
            "7: ['채무불이행/NNG, IN_CUSTOM_DICT']: 설령 피고의 이 부분 제보 내용이 원고의 명예나 신용을 훼손할 수 있는 내용이라 하더라도, 이는 공공의 이익을 위한 것으로서 위법성이 조각된다고 할 것이므로, 이 사건 비방금지 약정 위반에 따른 채무불이행이 성립하지 않는다고 봄이 타당하다.\n",
            "8: ['채무불이행/NNG, IN_CUSTOM_DICT']: 또한 설령 원고와 X 주식회사와 체결한 위 용품후원계약의 내용이 원고의 비밀 에 해당한다고 하더라도, 위 나)항에서 본 사정들에 비추어 그 제보행위는 공공의 이익을 위한 것으로서 그 표현 내용이나 방법 등이 부당하다고 볼 수 없어 위법성이 조각된다고 할 것이므로, 이 사건 비밀누설금지 약정 위반에 따른 채무불이행도 성립하지 않는다고 봄이 타당하다.\n",
            "9: ['채무불이행/NNG, IN_CUSTOM_DICT']: 설령 피고의 이 부분 제보 내용이 원고의 명예나 신용을 훼손할 수 있는 내용이라 하더라도, 이는 공공의 이익을위한 것으로서 위법성이 조각된다고 할 것이므로, 이 사건 비방금지 약정 위반에 따른 채무불이행이 성립하지 않는다고 봄이 타당하다.\n",
            "10: ['채무불이행/NNG, IN_CUSTOM_DICT']: 그 제보행위는 공공의 이익을 위한 것으로서 그 표현내용이나 방법 등이 부당하다고 볼 수 없어 위법성이 조각된다고 할 것이므로, 이 사건비밀누설금지 약정 위반에 따른 채무불이행도 성립하지 않는다고 봄이 타당하다.\n",
            "11: ['사실관계/NNG, IN_CUSTOM_DICT']: 제1심은 위와 같은 사실관계나 피고가 제출한 증거만으로는 위 2,370만의 상가관리비를 초과하는 보수를 지급하기로 하는묵시적인 약정이 있었다고 보기 어렵다는 이유로 피고의 이 부분 본소청구를 기각하는 판결을 선고하였고, 그 무렵 위 판결이 확정된 사실이 인정된다.\n",
            "12: ['채무불이행/NNG, IN_CUSTOM_DICT']: 설령 피고의 이 부분 제보 내용이 원고의 명예나 신용을 훼손할 수 있는 내용이라 하더라도, 이는 공공의 이익을 위한 것으로서 위법성이 조각된다고 할 것이므로, 이 사건 비방금지 약정 위반에 따른 채무불이행이 성립하지 않는다고 봄이 타당하다.\n",
            "13: ['채무불이행/NNG, IN_CUSTOM_DICT']: 이 사건 비밀누설금지 약정 위반에 따른 채무불이행도 성립하지 않는다고 봄이 타당하다.\n",
            "14: ['채무불이행/NNG, IN_CUSTOM_DICT']: 피고는 위와 같은 채무불이행(이행불능)에 따른 손해배상책임을 부담한다고 할 것이다.\n",
            "15: ['채무불이행/NNG, IN_CUSTOM_DICT']: 그렇다면 피고는 원고에게 채무불이행으로 인한 손해배상으로서 그 이행이익 상당인 4억 원 중 원고가 구하는 바에 따라 피고로부터 회수한 임대차보증금 및 기계 매매대금 합계 1억 4,500만 원(=9,500만 원+5,000만 원)을 공제한 나머지 2억 5,500만 원(=4억 원-1억 4,500만 원) 및 이에 대한 지연손해금을 지급할 의무가 있다.\n",
            "16: ['당사자능력/NNG, IN_CUSTOM_DICT']: 이 사건 소유권이전등기가 원인 무효임을 이유로 위 등기와 그에 터 잡아 이루어진 위 근저당권 및 지상권설정등기의 말소를 구하는 이 사건 소에 대하여, 피고 조합은 원고가 일부 종원 집단에 불과할 뿐이어서 당사자능력이 없고, 이 사건 소가 적법한 대표자에 의하여 제기되지 않았거나 소제기에 관한 특별수권이 없어 부적법하다고 항변한다.\n",
            "17: ['사무관리/NNG, IN_CUSTOM_DICT']: 그러나 사무관리는 의무없이 타인을 위하여 사무를 관리하는 경우에 성립할 수 있는데, 원고는 앞서 본 것처럼 전통시장법에 따른 시장관리자로서 자신의 업무를 수행한 것일 뿐 피고를 위한 관리업무를 한 것은 아니므로 사무관리가 성립될 수 없다.\n",
            "18: ['사무관리/NNG, IN_CUSTOM_DICT']: 그러나 사무관리는 의무없이 타인을 위하여 사무를 관리하는 경우에 성립할 수 있는데, 원고는 앞서 본 것처럼 전통시장법에 따른 시장관리자로서 자신의 업무를 수행한 것일 뿐 피고를 위한 관리업무를 한 것은 아니므로 사무관리가 성립될 수 없다.\n",
            "19: ['채무불이행/NNG, IN_CUSTOM_DICT']: 만일 수급인에게 귀책사유가 있는 경우 위 하자담보책임을 넘어 수급인이 도급계약의 내용에 따른 의무를 제대로 이행하지 못함으로 인하여 도급인의 신체나 재산에 발생한 손해에 대한 배상으로 채무불이행에 따른 손해배상책임을 부담하게 된다.\n",
            "20: ['채무불이행/NNG, IN_CUSTOM_DICT']: 따라서 이 사건 추진전동기의 불량에 따른 원고의 채무불이행으로 인한 손해배상청구권의 소멸시효는 이 사건 추진전동기의 손상원인에 관하여 사단법인 한국선급과 기품원의 보고서가 작성·제출된 날인 2013. 7. 19.부터 새로이 진행된다고 할 것이다.\n",
            "21: ['가압류/NNG, IN_CUSTOM_DICT']: \"② 전항의 경우에 6월내에 재판상의 청구, 파산절차참가, 압류 또는 가압류, 가처분을 한 때에는 시효는 최초의 재판상 청구로 인하여 중단된 것으로 본다.\"고 규정하고 있다.\n",
            "22: ['사실관계/NNG, IN_CUSTOM_DICT']: 민사재판에 있어서는 형사재판의 사실인정에 구속을 받는 것은 아니라고 하더라도 동일한 사실관계에 관하여 이미 확정된 형사판결이 유죄로 인정한 사실은 유력한 증거 자료가 되므로 민사재판에서 제출된 다른 증거들에 비추어 형사재판의 사실 판단을 채용하기 어렵다고 인정되는 특별한 사정이 없는 한 이와 반대되는 사실은 인정할 수 없다(대법원 2008. 2. 14. 선고 2007다69148, 69155 판결 등 참조).\n",
            "23: ['간접강제/NNG, IN_CUSTOM_DICT']: 따라서 앞서 본 법리에 따라 특별한 사정이 없는 한 원고들이 피고에 대하여 이 사건 쟁송의 취하절차 이행을 구하는 청구와 이를 전제로 한 간접강제 청구는 소로써 청구할 법률상 이익이 없다.\n",
            "24: ['채무불이행/NNG, IN_CUSTOM_DICT']: 원고들이, 이 사건 제소행위가 이 사건 합의 중 협력 의무 위반, 혹은 부제소 의무에 위반한 채무불이행이라거나, 부제소 약정을 하였음에도 악의적으로 부당한 소를 제기한 불법행위에 해당한다고 주장한다.\n",
            "25: ['사실관계/NNG, IN_CUSTOM_DICT']: 앞서 인정된 사실관계만으로는 게시판 관리자가 이 사건 청원글을 즉시 삭제하는 등 상당한 시간 내에 원고의 피해를 방지할 수 있는 조치를 취할 주의의무를 위반하였다고 인정하기 어렵고, 달리 이를 인정할 만한 증거가 없다.\n",
            "26: ['간접강제/NNG, IN_CUSTOM_DICT']: 따라서 채무자는 이 사건 특별 부록을 '00(○○)' 구성원 관련 부분을 삭제하지 않은 상태로 인쇄, 제본, 제작, 복제, 배포, 판매, 수출하여서는 아니 되고, 앞서 살핀 제반 사정에 비추어 볼 때 채무자에 대하여 위 명령의 위반행위가 행해지는 1일당 20,000,000원씩의 간접강제를 명함이 상당하다.\n",
            "27: ['감정인/NNG, IN_CUSTOM_DICT']: 제1심 법원의 감정인 소외 2에 대한 시가감정촉탁 결과, 이 법원의 감정인 소외 2에 대한 사실조회회신 결과에 변론 전체의 취지를 더하여 인정할 수 있는 다음과 같은 사정을 종합하여 보면, 제1심 감정인 소외 2는 이 사건 각 부동산의 시가(별지 목록 “매매대금”란 기재 금액)를 평가함에 있어 주택건설사업으로 인하여 예상되는 개발이익까지 고려하여 판단한 것으로 인정되고, 그 감정결과에 어떠한 잘못이 있다고 볼 수 없다.\n",
            "28: ['가압류/NNG, IN_CUSTOM_DICT']: 이와 같이 이 사건 각 초과 가압류 부분이 부당한 보전집행에 해당하는 이상 집행채권자인 피고의 고의, 과실이 추정되고 특별한 사정이 없는 한 피고는 원고에게 위 부당 보전집행으로 인한 손해를 배상할 의무가 있다.\n",
            "29: ['가압류/NNG, IN_CUSTOM_DICT']: 위(2)항에서 인정한 각 사실 및 사정들만으로는 손해의 공평·타당한 부담이라고 하는 손해배상제도의 이념 및 자기책임의 원칙에 어긋나지 않으면서도 채무자인 원고로 하여금 이 사건 각 가압류 초과 부분 집행으로 인한 손해전부를 감수하게 하는 것을 정당화할 수 있을 정도로, 보전처분제도의 실효적 보장의 필요성이 큰 경우에 해당한다고 보기 어렵다.\n",
            "30: ['가압류/NNG, IN_CUSTOM_DICT']: 따라서 피고가 이 사건 가압류신청 당시 원고에 대하여 관련 본안소송에서 확정된 3,000만 원 상당의 손해배상채권 을 초과하여이 사건 각 초과 가압류 부분 상당의 손해배상채권까지도 존재한다고 믿을 만한 상당한 이유가 있었다고 평가할 수 없고, 달리과실 추정의 번복을 인정할만한 증거가 없다.\n",
            "31: ['가압류/NNG, IN_CUSTOM_DICT']: 기여율 채권자인 피고에게 자발적으로 기여율을 적용하여 감액된 손해액을 청구금액으로 가압류를 신청할 것을 기대, 강요하는 것이 부당하다고 볼 여지도 있다.\n",
            "32: ['현장검증/NNG, IN_CUSTOM_DICT']: 위 관련사건에서 법원은 000의 화재원인에 관한 분석결과, 화재원인에 관한 법원감정, 현장검증, 목격자의 증언 등을 통하여 이 사건 화재원인에 관한 전문가들의 의견과 다양한 간접사실 등을 종합하여 화재원인에 관한 판단을 하였고, 피고가 위 관련사건 제1심판결에 대하여 항소하였지만 제1심판결 선고 이후 새로이 제출할 수 있는 특별한 증거가 존재할 수는 없는 상황이었다.\n",
            "33: ['채무불이행/NNG, IN_CUSTOM_DICT']: 원고 2는, 피고가 이 사건 점포확정 및 이를 위한 사전협의 과정에서 상권, 입지 타당성을 검증하는 데 협력하여야 할 계약체결상 부수의무를 위반하였고, 가맹사업거래의 공정화에 관한 법률을 위반하여 정보공개서, 인근가맹점 현황문서, 장래의 예상수익상황에 관한 정보 등을 제공하지 않았으므로, 위와 같은 채무불이행 또는 불법행위로 인한 손해를 배상할 책임이 있다고도 주장한다.\n",
            "34: ['채무불이행/NNG, IN_CUSTOM_DICT']: 한편, 이 사건 근저당권은 이 사건 계약에 기한 원고 2의 피고에 대한 채무를 담보한다고 할 것인데, 이 사건 계약이 원고들 주장과 같이 피고의 채무불이행으로 인하여 해지되어 종료되었다고 인정하기 어려운 이상, 이 사건 근저당권의 피담보채무가 존재하지 않음을 전제로 하는 원고 1의 청구는 더 나아가 살필 필요 없이 이유 없다.\n",
            "35: ['법률요건/NNG, IN_CUSTOM_DICT']: 양 채무는 동일한 법률요건이 아닌 별개의 원인에 기하여 발생한 것일 뿐 아니라 공평의 관점에서 보더라도 그 사이에 이행상 견련관계를 인정하기 어렵다(대법원 2019. 7. 10 선고 2018다242727 판결).\n",
            "36: ['채무불이행/NNG, IN_CUSTOM_DICT']: 피고에 대한 횡령이라는 채무불이행이나 불법행위에 기한 손해배상채권 또한 위 사업과 관련하여 필요하거나 이를 영위하기 위한 채권이 아니므로 양도대상이 된다 할 수 없다.\n",
            "37: ['채무불이행/NNG, IN_CUSTOM_DICT']: 당시 이미 발생한 피고의 횡령행위에 대하여 000이 가지는 채무불이행이나 불법행위를 원인으로 하는 손해배상청구권이나 부당이득반환채권은 000과 피고 사이의 고용계약과 별개의 원인으로 발생한 것이므로 계약인수의 효과로서 양수인에게 당연히 이전되는 것으로 볼 수 없다(대법원 2015. 7. 23. 선고 2012다15336, 15343, 15350, 15367, 15374, 15381, 15398, 15404 판결 참고).\n",
            "38: ['채무불이행/NNG, IN_CUSTOM_DICT']: 결국 피고의 2015. 11. 4. 이전 횡령행위에 대하여는 000이 아닌 원고가 채무불이행이나 불법행위로 인한 손해배상채권 또는 부당이득반환채권을 행사할 수 없다고 할 것이다.\n",
            "39: ['사실관계/NNG, IN_CUSTOM_DICT']: 또한 앞서 본 사실관계에 비추어 보면, 형사보상금 수령일을 기준으로 위자료 원본 액수가 그가 수령한 형사보상금을 초과하여 이를 위자료 원본에서 공제(대법원 2012. 3. 29. 선고 2011다38325 판결 참조, 뒤에서 보는 바와 같이 피고의 불법행위로 인한위자료 배상채무의 지연손해금이 제1심 변론종결일부터 기산되기 때문이다)하여야 한다.\n",
            "40: ['채권자대위권/NNG, IN_CUSTOM_DICT']: 채권자대위권을 행사하는 경우 채권자와 채무자는 일종의 법정위임 관계에 있으므로 채권자는 민법 제688조를 준용하여 채무자에게 그 비용의 상환을 청구할 수 있다(대법원 1996. 8. 21.자 96그8 결정 참조).\n",
            "41: ['사실관계/NNG, IN_CUSTOM_DICT']: 원고가 인용하는 대법원 2013. 11. 28. 선고 2013도1602 판결은 하역차량의 운전자 및 그와 더불어 작업 중인 근로자는 원칙적으로 작업지휘자 및 유도자가 될 수 없다는 취지로서 이 사건과는 사실관계를 달리 한다.\n",
            "42: ['사실관계/NNG, IN_CUSTOM_DICT']: 앞서 인정한 사실관계 및 원고가 제출한 증거를 모두 합하여 보더라도 원고가 주장하는 사정만으로는 이 사건 매매계약 성립시 또는 소유권 변동 당시를 기준으로 하여 이 사건 아파트에 거래통념상 기대되는 객관적 성질, 성능을 결여한 하자가 존재했다고 인정하기 어렵고, 달리 이를 인정할 뚜렷한 증거가 없다.\n",
            "43: ['채무불이행/NNG, IN_CUSTOM_DICT']: 피고가 위와 같은 고지의무를 이행하지 않은 것은 불완전이행으로 인한 채무불이행에 해당한다고 봄이 타당하다.\n",
            "44: ['채무불이행/NNG, IN_CUSTOM_DICT']: 피고는 채무불이행에 따른 손해배상으로, 위 원고들이 받은 정신적 고통을 금전적으로나마 배상할 책임이 있다.\n",
            "45: ['채무불이행/NNG, IN_CUSTOM_DICT']: 피고는 채무불이행으로 인한 손해배상으로, 계약자 원고들에게 각 100만 원 및 이에 대한 지연손해금을 지급할 의무가 있다.\n"
          ]
        }
      ],
      "source": [
        "import json\n",
        "\n",
        "# 사용자 사전 저장\n",
        "cust_dic = tagger.custom_dict(\"my_dict_01\") # 사전이름 영문, 숫자, 기호('-', '_')만 사용 가능\n",
        "\n",
        "# 복합명사 사전 단어 저장: 위에서 불러온 legal_words 리스트를 set type으로 저장합니다.\n",
        "cust_dic.copy_cp_set(set(legal_words))\n",
        "cust_dic.update()\n",
        "\n",
        "# 이전 사용자 사전 불러오기\n",
        "cust_dict2 = tagger.custom_dict(\"my_dict_01\")\n",
        "cust_dict2.load()\n",
        "\n",
        "tagger.set_domain('my_dict_01')\n",
        "\n",
        "# 출력 결과를 텍스트 파일로 저장합니다.\n",
        "with open('output_lagal_words.txt', 'w', encoding='utf-8') as f:\n",
        "  # 문장 분석\n",
        "  idx = 1\n",
        "  for sent in legal_sentences:\n",
        "    # 형태소 분석 결과를 딕셔너리 형태로 저장\n",
        "    res = tagger.tags([sent]) \n",
        "    res_dict = json.loads(res.as_json_str())\n",
        "\n",
        "    # 사용자 사전에 등록된 단어인 경우, 형태소와 문장을 출력합니다.\n",
        "    for token in res_dict['sentences'][0]['tokens']:\n",
        "        custom_token = [f\"{t['text']['content']}/{t['tag']}\"+\", \"+f\"{t['outOfVocab']}\" \\\n",
        "                        for t in token['morphemes'] if t['outOfVocab'] == 'IN_CUSTOM_DICT']\n",
        "        if len(custom_token) != 0:\n",
        "            print(f\"{idx}: {custom_token}: {sent}\")\n",
        "            f.write(f\"{idx}: {custom_token}: {sent}\\n\")\n",
        "            idx += 1\n"
      ]
    }
  ],
  "metadata": {
    "colab": {
      "provenance": []
    },
    "kernelspec": {
      "display_name": "Python 3",
      "name": "python3"
    },
    "language_info": {
      "name": "python"
    }
  },
  "nbformat": 4,
  "nbformat_minor": 0
}